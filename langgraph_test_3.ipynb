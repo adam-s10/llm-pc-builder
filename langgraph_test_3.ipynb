{
  "nbformat": 4,
  "nbformat_minor": 0,
  "metadata": {
    "colab": {
      "provenance": []
    },
    "kernelspec": {
      "name": "python3",
      "display_name": "Python 3"
    },
    "language_info": {
      "name": "python"
    }
  },
  "cells": [
    {
      "cell_type": "code",
      "execution_count": 1,
      "metadata": {
        "colab": {
          "base_uri": "https://localhost:8080/"
        },
        "id": "JzuxdA2Kkzp5",
        "outputId": "14c5a4ca-345f-4caa-d8f5-18e1b00169a9"
      },
      "outputs": [
        {
          "output_type": "stream",
          "name": "stdout",
          "text": [
            "\u001b[33mWARNING: Skipping kfp as it is not installed.\u001b[0m\u001b[33m\n",
            "\u001b[0m\u001b[33mWARNING: Skipping jupyterlab as it is not installed.\u001b[0m\u001b[33m\n",
            "\u001b[0m\u001b[33mWARNING: Skipping libpysal as it is not installed.\u001b[0m\u001b[33m\n",
            "\u001b[0m\u001b[33mWARNING: Skipping ydata-profiling as it is not installed.\u001b[0m\u001b[33m\n",
            "\u001b[2K     \u001b[90m━━━━━━━━━━━━━━━━━━━━━━━━━━━━━━━━━━━━━━━━\u001b[0m \u001b[32m43.5/43.5 kB\u001b[0m \u001b[31m1.6 MB/s\u001b[0m eta \u001b[36m0:00:00\u001b[0m\n",
            "\u001b[2K   \u001b[90m━━━━━━━━━━━━━━━━━━━━━━━━━━━━━━━━━━━━━━━━\u001b[0m \u001b[32m138.0/138.0 kB\u001b[0m \u001b[31m4.4 MB/s\u001b[0m eta \u001b[36m0:00:00\u001b[0m\n",
            "\u001b[2K   \u001b[90m━━━━━━━━━━━━━━━━━━━━━━━━━━━━━━━━━━━━━━━━\u001b[0m \u001b[32m42.0/42.0 kB\u001b[0m \u001b[31m2.2 MB/s\u001b[0m eta \u001b[36m0:00:00\u001b[0m\n",
            "\u001b[2K   \u001b[90m━━━━━━━━━━━━━━━━━━━━━━━━━━━━━━━━━━━━━━━━\u001b[0m \u001b[32m1.4/1.4 MB\u001b[0m \u001b[31m27.9 MB/s\u001b[0m eta \u001b[36m0:00:00\u001b[0m\n",
            "\u001b[2K   \u001b[90m━━━━━━━━━━━━━━━━━━━━━━━━━━━━━━━━━━━━━━━━\u001b[0m \u001b[32m42.0/42.0 kB\u001b[0m \u001b[31m2.3 MB/s\u001b[0m eta \u001b[36m0:00:00\u001b[0m\n",
            "\u001b[2K   \u001b[90m━━━━━━━━━━━━━━━━━━━━━━━━━━━━━━━━━━━━━━━━\u001b[0m \u001b[32m47.2/47.2 kB\u001b[0m \u001b[31m2.9 MB/s\u001b[0m eta \u001b[36m0:00:00\u001b[0m\n",
            "\u001b[2K   \u001b[90m━━━━━━━━━━━━━━━━━━━━━━━━━━━━━━━━━━━━━━━━\u001b[0m \u001b[32m194.8/194.8 kB\u001b[0m \u001b[31m13.1 MB/s\u001b[0m eta \u001b[36m0:00:00\u001b[0m\n",
            "\u001b[2K   \u001b[90m━━━━━━━━━━━━━━━━━━━━━━━━━━━━━━━━━━━━━━━━\u001b[0m \u001b[32m223.6/223.6 kB\u001b[0m \u001b[31m16.1 MB/s\u001b[0m eta \u001b[36m0:00:00\u001b[0m\n",
            "\u001b[?25h"
          ]
        }
      ],
      "source": [
        "# Remove conflicting packages from the base environment.\n",
        "!pip uninstall -qqy kfp jupyterlab libpysal thinc spacy fastai ydata-profiling google-cloud-bigquery google-generativeai\n",
        "\n",
        "# Install langgraph and the packages needed.\n",
        "!pip install -qU 'langgraph==0.3.21' 'langchain-google-genai==2.1.2' 'langgraph-prebuilt==0.1.7'"
      ]
    },
    {
      "cell_type": "code",
      "source": [
        "# Imports\n",
        "import os\n",
        "import json\n",
        "import re\n",
        "\n",
        "from google import genai\n",
        "from google.genai import types\n",
        "\n",
        "from pprint import pprint\n",
        "from random import randint\n",
        "from typing import List, Dict, Any, Annotated, Literal, Optional\n",
        "from collections.abc import Iterable\n",
        "from typing_extensions import TypedDict\n",
        "from IPython.display import Image, display\n",
        "\n",
        "from langchain_core.tools import tool\n",
        "from langgraph.prebuilt import ToolNode\n",
        "from langgraph.graph.message import add_messages\n",
        "from langchain_core.messages import AIMessage, HumanMessage\n",
        "from langgraph.graph import StateGraph, START, END\n",
        "from langchain_core.messages.tool import ToolMessage\n",
        "from langchain_google_genai import ChatGoogleGenerativeAI"
      ],
      "metadata": {
        "id": "mz6xIO6ok2ob"
      },
      "execution_count": 2,
      "outputs": []
    },
    {
      "cell_type": "code",
      "source": [
        "# Setup API key for Gemini\n",
        "os.environ[\"GOOGLE_API_KEY\"] = \"nuh-uh\""
      ],
      "metadata": {
        "id": "KwwS12HVk4ua"
      },
      "execution_count": 3,
      "outputs": []
    },
    {
      "cell_type": "code",
      "source": [
        "class PCBuilderState(TypedDict):\n",
        "    \"\"\"State representing the PC builder conversation.\"\"\"\n",
        "\n",
        "    # The chat conversation. This preserves the conversation history\n",
        "    # between nodes. The `add_messages` annotation indicates to LangGraph\n",
        "    # that state is updated by appending returned messages, not replacing\n",
        "    # them.\n",
        "    messages: Annotated[list, add_messages]\n",
        "\n",
        "    # User requirements\n",
        "    # requirements: Dict[str, Any]\n",
        "    requirements: list[str]\n",
        "\n",
        "    # Budget information\n",
        "    budget: str\n",
        "\n",
        "    # Current recommendations for parts\n",
        "    recommendations: list[Dict[str, Any]]\n",
        "\n",
        "    # Flag for whether the build is complete\n",
        "    build_complete: bool\n",
        "\n",
        "    # Flag to indicate waiting for user input\n",
        "    # waiting_for_user: bool\n",
        "\n",
        "\n",
        "# The system instruction defines how the chatbot is expected to behave and includes\n",
        "# rules for when to call different functions, as well as rules for the conversation, such\n",
        "# as tone and what is permitted for discussion.\n",
        "PC_BUILDER_SYSINT = (\n",
        "    \"system\",  # 'system' indicates the message is a system instruction.\n",
        "    \"\"\"\n",
        "You are a PC Builder Assistant, an expert in computer hardware and building custom PCs.\n",
        "Your goal is to help users find the perfect PC build based on their budget and requirements.\n",
        "\n",
        "You should:\n",
        "1. Ask about their budget and use case (gaming, office work, content creation, etc.)\n",
        "2. Determine if they need a custom build or pre-built system.\n",
        "3. For pre-built systems, ask if desktops or laptops or either are preferred.\n",
        "4. For custom builds, if they have existing hardware, ask what parts they want to upgrade.\n",
        "\n",
        "Once you have a general idea of what the user is looking for, you must formulate that\n",
        "into a structured list of concise individual requirements and call the update_plans tool,\n",
        "providing the budget and list of requirements. For custom build devices, if the user\n",
        "mentions wanting the PC for a specific task that is hardware intensive, such as playing a\n",
        "video game or video editing or training AI models or such, then first use the\n",
        "search_task_requirements tool to find the hardware requirements for the specified task,\n",
        "and only then update the user requirements using the update_plans tool, with the extra\n",
        "hardware requirements added to it.\n",
        "\n",
        "For pre-builds, even if there are potentially-intensive task requirements, you can call\n",
        "the update_plans tool directly, adding the task requirements as part of the main requirements.\n",
        "\n",
        "Once the requirements are all logged by the tool, summarize the requirements back to the\n",
        "user in a couple of sentences using the latest requirements list and budget returned by\n",
        "your last call of the tool.\n",
        "\n",
        "If the user wants to change something in their plans, send a new list of requirements back\n",
        "to update_plans. If they want to start from scratch, use the clear_plan tool to remove all\n",
        "budget and requirements, then walk through the requirements gathering steps again.\n",
        "\n",
        "If the user confirms their requirements are final and they want a pre-built device, use\n",
        "search_prebuilt tool to find pre-built devices fitting the user criteria, which will be\n",
        "given to you in a structured JSON format. If the JSON has formatting errors and you cannot\n",
        "understand it, recall the search_prebuilt tool. If the JSON can be understood, call the\n",
        "rank_prebuilds tool to get a final list of recommendations and then render this neatly in\n",
        "markdown for the user to browse.\n",
        "\n",
        "If the user confirms their requirements are final and they want a custom build, use the\n",
        "lookup_parts_needed tool to get a list of the parts required. Once you have the parts,\n",
        "call the search_custom_parts tool to get a list of parts, which should be in a structured\n",
        "JSON format. If the JSON has formatting errors and you cannot understand it, recall the\n",
        "search_custom_parts tool. If the JSON can be understood, call the rank_parts tool to get\n",
        "a final list of parts for the user. Render this neatly in markdown for the user to browse.\n",
        "\n",
        "The user may have additional questions about the parts or building process, which you must\n",
        "expand upon if asked.\n",
        "\n",
        "If any of the tools are unavailable, let the user know instead of trying to call the tools.\n",
        "\n",
        "Stay focused on PC building. If users ask about unrelated topics, gently redirect them.\n",
        "\"\"\",\n",
        ")\n",
        "\n",
        "# This is the message with which the system opens the conversation.\n",
        "WELCOME_MSG = \"Welcome to the PC Builder Assistant! (Type `q` to quit). I'll help you find the perfect computer based on your needs and budget. Could you tell me your budget and what you'll be using this PC for? (Gaming, office work, content creation, etc.)\""
      ],
      "metadata": {
        "id": "86ysZFyXk6W6"
      },
      "execution_count": 4,
      "outputs": []
    },
    {
      "cell_type": "code",
      "source": [
        "# LLM model definition\n",
        "llm = ChatGoogleGenerativeAI(model=\"gemini-2.0-flash\")"
      ],
      "metadata": {
        "id": "4KH2vWTY3sZR"
      },
      "execution_count": 5,
      "outputs": []
    },
    {
      "cell_type": "code",
      "source": [
        "# Stateless tool - Search online for pre-built devices\n",
        "\n",
        "@tool\n",
        "def search_prebuilt(budget: str, requirements: list[str]) -> str:\n",
        "    '''Search for pre-built desktops or laptops fulfilling the user criteria.\n",
        "    Take the budget and requirements, and get Gemini to format it into a terse, concise query.\n",
        "    Then use search grounding to look for it and return the output as structured JSON with\n",
        "    price, brand, desktop/laptop, name, link to view more or buy\n",
        "    '''\n",
        "\n",
        "    USE_LANGGRAPH_SEARCH = False  # Will use Gemini search if false, both techniques seem to hallucinate info\n",
        "\n",
        "    USE_MODEL = 'gemini-2.0-flash'\n",
        "\n",
        "    newline_char = '\\n'\n",
        "\n",
        "    search_config = types.GenerateContentConfig(\n",
        "        tools=[types.Tool(google_search=types.GoogleSearch())],\n",
        "        temperature=0.0\n",
        "    )\n",
        "\n",
        "    prompt = f'''\n",
        "You are a computer hardware specialist who always responds in valid JSON. Search online\n",
        "for pre-built laptops or desktops based on the requirements provided below and return\n",
        "the results in JSON format with name, price, specifications, and purchase link for each\n",
        "device. Find at least 3-6 options for the device in question.\n",
        "\n",
        "JSON Structure to follow:\n",
        "Return a list of objects, where each object has three fields: name, price, and specifications.\n",
        "\n",
        "Key points to note:\n",
        "- Please answer the following question using ONLY information found in the provided web search results. Cite your sources for each statement or paragraph.\n",
        "- Rely exclusively on the real-time search results to answer. For each device in the JSON list you make, indicate which search result supports it.\n",
        "\n",
        "Device Requirements:\n",
        "    1. Budget: {'$600'}\n",
        "    2. Requirements: {newline_char + (newline_char.join([((' ' * 8) + '- ' + req) for req in requirements]))}\n",
        "'''\n",
        "\n",
        "    response = None\n",
        "\n",
        "    if USE_LANGGRAPH_SEARCH:\n",
        "        search_model = ChatGoogleGenerativeAI(\n",
        "            model=USE_MODEL,\n",
        "            config=search_config,\n",
        "            # convert_system_message_to_human=True  # Handle system messages properly\n",
        "        )\n",
        "        response = search_model.invoke([\n",
        "            HumanMessage(content=prompt)\n",
        "        ])\n",
        "        return response.content\n",
        "    else:\n",
        "        client = genai.Client(api_key=os.environ[\"GOOGLE_API_KEY\"])\n",
        "        response = client.models.generate_content(\n",
        "            model=USE_MODEL,\n",
        "            contents=prompt,\n",
        "            config=search_config\n",
        "        )\n",
        "        rc = response.candidates[0]\n",
        "        return rc.content.parts[0].text"
      ],
      "metadata": {
        "id": "DxR35j6D_kBh"
      },
      "execution_count": 6,
      "outputs": []
    },
    {
      "cell_type": "code",
      "source": [
        "# Stateless tool - Search hardware requirements for a particular task\n",
        "@tool\n",
        "def search_task_requirements():\n",
        "    '''\n",
        "    '''"
      ],
      "metadata": {
        "id": "_CrjI_sD-Cp1"
      },
      "execution_count": 7,
      "outputs": []
    },
    {
      "cell_type": "code",
      "source": [
        "# Stateless tool - Lookup parts required internally using RAG and rules of thumb\n",
        "@tool\n",
        "def lookup_parts_needed():\n",
        "    '''\n",
        "    '''\n",
        "'''\n",
        "4. For custom builds, recommend parts following these rules:\n",
        "   - GPU: ~50% of total budget\n",
        "   - CPU: Should not bottleneck the GPU\n",
        "   - Motherboard: Quality based on other components\n",
        "   - RAM: Compatible with CPU/motherboard overclocking specs\n",
        "   - PSU: At least 10% headroom over expected power draw, 20-30% for future upgrades\n",
        "   - Storage: Prioritize SSDs for budget builds, M.2 for pro builds, HDDs only if necessary\n",
        "   - Cooler: Appropriate for the CPU (no air cooling for hot CPUs)\n",
        "   - Case: Compatible with GPU length, motherboard type, and storage needs\n",
        "   - Fans: Minimum 3 fans (2 intake, 1 exhaust)\n",
        "'''"
      ],
      "metadata": {
        "id": "EwN9E2H-STbc",
        "colab": {
          "base_uri": "https://localhost:8080/",
          "height": 70
        },
        "outputId": "7445c02a-9898-42cf-d44b-20ef492259f1"
      },
      "execution_count": 8,
      "outputs": [
        {
          "output_type": "execute_result",
          "data": {
            "text/plain": [
              "'\\n4. For custom builds, recommend parts following these rules:\\n   - GPU: ~50% of total budget\\n   - CPU: Should not bottleneck the GPU\\n   - Motherboard: Quality based on other components\\n   - RAM: Compatible with CPU/motherboard overclocking specs\\n   - PSU: At least 10% headroom over expected power draw, 20-30% for future upgrades\\n   - Storage: Prioritize SSDs for budget builds, M.2 for pro builds, HDDs only if necessary\\n   - Cooler: Appropriate for the CPU (no air cooling for hot CPUs)\\n   - Case: Compatible with GPU length, motherboard type, and storage needs\\n   - Fans: Minimum 3 fans (2 intake, 1 exhaust)\\n'"
            ],
            "application/vnd.google.colaboratory.intrinsic+json": {
              "type": "string"
            }
          },
          "metadata": {},
          "execution_count": 8
        }
      ]
    },
    {
      "cell_type": "code",
      "source": [
        "# All stateless tools, part of tools node: Search game specs, lookup parts needed (sends to\n",
        "# chatbot which then sends to search part then back to chatbot which then updates\n",
        "# recommendations; must also take in existing hardware), search custom part (searches\n",
        "# each part mentioned by lookup parts, takes in list of strs from chatbot or directly\n",
        "# from lookup, does google search or external api call,  returns json for each part) ->\n",
        "# this then goes to optimize build and then gets put in recommendations."
      ],
      "metadata": {
        "id": "uBW2Y_RdSwTh"
      },
      "execution_count": 9,
      "outputs": []
    },
    {
      "cell_type": "code",
      "source": [
        "# Stateless tool - Search online for custom parts for the build\n",
        "@tool\n",
        "def search_custom_parts():\n",
        "    '''\n",
        "    '''"
      ],
      "metadata": {
        "id": "_Hjm6RUkVbsJ"
      },
      "execution_count": 10,
      "outputs": []
    },
    {
      "cell_type": "code",
      "source": [
        "# Tool signatures for planning the build\n",
        "# Functionality defined in pc_planner_node\n",
        "@tool\n",
        "def update_plans(requirements: Iterable[str], budget: Optional[str] = None) -> Dict[str, Any]:\n",
        "    '''\n",
        "    Adds or modifies the device requirements and budget.\n",
        "    Returns a confirmation of the budget and requirements that were just added to state.\n",
        "    '''\n",
        "\n",
        "\n",
        "@tool\n",
        "def clear_plan():\n",
        "    '''\n",
        "    Removes all requirements and budget information and resets to blank slate.\n",
        "    '''"
      ],
      "metadata": {
        "id": "SdoWxZlJIoUb"
      },
      "execution_count": 11,
      "outputs": []
    },
    {
      "cell_type": "code",
      "source": [
        "# Tool signatures for recommending parts for a planned build\n",
        "# Functionality defined in optimize_build_node\n",
        "@tool\n",
        "def rank_parts():\n",
        "    '''\n",
        "    Takes in a list of parts in JSON and a budget and returns the most\n",
        "    performant yet price-optimal parts for each part.\n",
        "    Modifies state by adding the parts to the recommendations list.\n",
        "    '''\n",
        "\n",
        "\n",
        "@tool\n",
        "def rank_prebuilds(recommended_devices: str = '') -> str:\n",
        "    '''\n",
        "    Takes in a list of prebuilt devices in JSON and a budget and returns the top\n",
        "    three most performant yet price-optimal devices, also in JSON.\n",
        "    Modifies state by adding the devices to the recommendations list.\n",
        "    '''"
      ],
      "metadata": {
        "id": "3BVtk0cTIroB"
      },
      "execution_count": 12,
      "outputs": []
    },
    {
      "cell_type": "code",
      "source": [
        "# Helper functions required to rank pre-built devices\n",
        "\n",
        "def parse_price(price_str: str) -> float:\n",
        "    '''Extract numeric price value from the provided string.'''\n",
        "    # Extract digits and decimal value\n",
        "    price_match = re.search(r'[\\d,.]+', price_str)\n",
        "    if not price_match:\n",
        "        return 0.0\n",
        "\n",
        "    # Remove commas and convert to float\n",
        "    price_digits = price_match.group(0).replace(',', '')\n",
        "    return float(price_digits)\n",
        "\n",
        "\n",
        "def score_specs(specs: str) -> int:\n",
        "    \"\"\"\n",
        "    Analyze specifications to score device performance.\n",
        "    Higher scores indicate better performance.\n",
        "    \"\"\"\n",
        "    score = 0\n",
        "    specs = specs.lower()\n",
        "\n",
        "    # CPU scoring\n",
        "    if 'ryzen 7' in specs or 'i7' in specs:\n",
        "        score += 80\n",
        "    elif 'ryzen 5' in specs or 'i5' in specs:\n",
        "        score += 60\n",
        "    elif 'ryzen 3' in specs or 'i3' in specs:\n",
        "        score += 40\n",
        "\n",
        "    # Generation bonus\n",
        "    if '5700' in specs:\n",
        "        score += 20\n",
        "    elif '5600' in specs or '5500' in specs:\n",
        "        score += 15\n",
        "    elif '4500' in specs or '4600' in specs:\n",
        "        score += 10\n",
        "\n",
        "    # RAM scoring\n",
        "    ram_match = re.search(r'(\\d+)gb', specs.replace(' ', ''))\n",
        "    if ram_match:\n",
        "        ram_size = int(ram_match.group(1))\n",
        "        if ram_size >= 32:\n",
        "            score += 50\n",
        "        elif ram_size >= 16:\n",
        "            score += 30\n",
        "        elif ram_size >= 8:\n",
        "            score += 15\n",
        "\n",
        "    # Storage scoring\n",
        "    if '1tb' in specs.replace(' ', ''):\n",
        "        score += 30\n",
        "    elif '500gb' in specs.replace(' ', '') or '512gb' in specs.replace(' ', ''):\n",
        "        score += 20\n",
        "\n",
        "    if 'nvme' in specs or 'ssd' in specs:\n",
        "        score += 20\n",
        "\n",
        "    # GPU scoring\n",
        "    if 'rtx 3080' in specs:\n",
        "        score += 100\n",
        "    elif 'rtx 3070' in specs:\n",
        "        score += 80\n",
        "    elif 'rtx 3060' in specs:\n",
        "        score += 70\n",
        "    elif 'gtx 1650' in specs:\n",
        "        score += 40\n",
        "    elif 'radeon' in specs or 'onboard' in specs:\n",
        "        score += 20\n",
        "\n",
        "    return score\n",
        "\n",
        "\n",
        "def get_value_ratio(device: Dict[str, Any], budget: float) -> float:\n",
        "    \"\"\"\n",
        "    Calculate value ratio based on specs score and price.\n",
        "    Returns 0 if device exceeds budget.\n",
        "    \"\"\"\n",
        "    price = parse_price(device['price'])\n",
        "    if price > budget:\n",
        "        return 0\n",
        "\n",
        "    specs_score = score_specs(device['specifications'])\n",
        "\n",
        "    # Calculate value ratio (specs score per unit of price)\n",
        "    # Higher ratio means better value\n",
        "    if price > 0:\n",
        "        return specs_score / price\n",
        "    return 0\n",
        "\n",
        "\n",
        "def rank_devices(devices_json: str, budget: float, return_json: Optional[bool] = False) -> Any:\n",
        "    '''\n",
        "    Rank devices based on specifications and price within budget.\n",
        "    Returns JSON string with top 3 devices.\n",
        "    '''\n",
        "    devices = json.loads(devices_json)\n",
        "\n",
        "    for device in devices:\n",
        "        device['value_ratio'] = get_value_ratio(device, budget)\n",
        "\n",
        "    # Sort devices by assigned value ratios descending\n",
        "    ranked_devices = sorted(devices, key=lambda x: x['value_ratio'], reverse=True)\n",
        "\n",
        "    # Select top 3 within budget\n",
        "    top_devices = [\n",
        "        {k: v for k, v in device.items() if k != 'value_ratio'}\n",
        "        for device in ranked_devices[:3] if parse_price(device['price']) <= budget\n",
        "    ]\n",
        "\n",
        "    if return_json:\n",
        "        return json.dumps(top_devices, indent=4, ensure_ascii=False)\n",
        "    return top_devices"
      ],
      "metadata": {
        "id": "tCsnnXgSCcw6"
      },
      "execution_count": 13,
      "outputs": []
    },
    {
      "cell_type": "code",
      "source": [
        "# Tool grouped on nodes\n",
        "planner_tools = [update_plans, clear_plan]\n",
        "builder_tools = [rank_parts, rank_prebuilds]"
      ],
      "metadata": {
        "id": "M-9DAAU6QH6i"
      },
      "execution_count": 14,
      "outputs": []
    },
    {
      "cell_type": "code",
      "source": [
        "# Tools Config\n",
        "auto_tools = [search_prebuilt, search_task_requirements, lookup_parts_needed, search_custom_parts]\n",
        "tool_node = ToolNode(auto_tools)\n",
        "\n",
        "# Tool binding\n",
        "llm_with_tools = llm.bind_tools(auto_tools + planner_tools + builder_tools)"
      ],
      "metadata": {
        "id": "pXXPDrGKA8_6"
      },
      "execution_count": 15,
      "outputs": []
    },
    {
      "cell_type": "code",
      "source": [
        "# Build planner node\n",
        "def pc_planner_node(state: PCBuilderState) -> PCBuilderState:\n",
        "    '''This is where the requirements and budget within state get manipulated.'''\n",
        "\n",
        "    tool_msg = state.get(\"messages\", [])[-1]\n",
        "    requirements_state = state.get(\"requirements\", [])\n",
        "    budget_state = state.get('budget', None)\n",
        "    recommendations_state = state.get('recommendations', [])\n",
        "    outbound_msgs = []\n",
        "    build_complete = state.get('build_complete', False)\n",
        "\n",
        "    for tool_call in tool_msg.tool_calls:\n",
        "        if tool_call['name'] == 'update_plans':\n",
        "            requirements_arg = tool_call['args']['requirements']\n",
        "            budget_arg = tool_call['args']['budget']\n",
        "            # If budget is None and nothing exists in state, raise an error.\n",
        "            # If there is something in state, then just don't update it.\n",
        "            # Otherwise always update the budget.\n",
        "            if budget_arg is None or len(budget_arg) < 1:\n",
        "                if budget_state is None or len(budget_state) < 1:\n",
        "                    raise ValueError(f'Budget is missing in tool call as well as state!')\n",
        "            else:\n",
        "                budget_state = budget_arg\n",
        "            if requirements_arg is None or len(requirements_arg) < 1:\n",
        "                raise ValueError('Requirements are missing in tool call!')\n",
        "            else:\n",
        "                requirements_state = [requirement for requirement in requirements_arg]\n",
        "            response = {\n",
        "                'budget': budget_arg if budget_arg is not None else budget_state,\n",
        "                'requirements': requirements_arg\n",
        "            }\n",
        "\n",
        "        elif tool_call['name'] == 'clear_plan':\n",
        "            requirements_state = []\n",
        "            budget_state = None\n",
        "            response = None\n",
        "\n",
        "        else:\n",
        "            raise NotImplementedError(f'Unknown tool call: {tool_call[\"name\"]}')\n",
        "\n",
        "        # Record the tool results as tool messages.\n",
        "        outbound_msgs.append(\n",
        "            ToolMessage(\n",
        "                content=response,\n",
        "                name=tool_call[\"name\"],\n",
        "                tool_call_id=tool_call[\"id\"],\n",
        "            )\n",
        "        )\n",
        "\n",
        "    return {\n",
        "        \"messages\": outbound_msgs,\n",
        "        \"requirements\": requirements_state,\n",
        "        'budget': budget_state,\n",
        "        'recommendations': recommendations_state,\n",
        "        \"build_complete\": build_complete\n",
        "    }"
      ],
      "metadata": {
        "id": "9BmdR5L5I0-i"
      },
      "execution_count": 16,
      "outputs": []
    },
    {
      "cell_type": "code",
      "source": [
        "# Parts recommender node (based on devised plan and recommended devices)\n",
        "def optimize_build_node(state: PCBuilderState) -> PCBuilderState:\n",
        "    '''This is where the recommendations within state get manipulated.'''\n",
        "    # state.recommendations modified by tool rank_parts() part of optimize_build node\n",
        "    # - happens once search_prebuilt() tool returns a few values\n",
        "\n",
        "    tool_msg = state.get(\"messages\", [])[-1]\n",
        "    requirements_state = state.get(\"requirements\", [])\n",
        "    budget_state = state.get('budget', None)\n",
        "    recommendations_state = state.get('recommendations', [])\n",
        "    outbound_msgs = []\n",
        "    build_complete = state.get('build_complete', False)\n",
        "\n",
        "    for tool_call in tool_msg.tool_calls:\n",
        "        if tool_call['name'] == 'rank_parts':\n",
        "            pass\n",
        "\n",
        "        elif tool_call['name'] == 'rank_prebuilds':\n",
        "            recommended_devices = tool_call['args']['recommended_devices']\n",
        "            if budget_state is None or len(budget_state) < 1:\n",
        "                raise ValueError(f'An invalid budget of NoneType was found!')\n",
        "            recommendations_state = rank_devices(recommended_devices, parse_price(budget_state))\n",
        "            response = rank_devices(recommended_devices, parse_price(budget_state), True)\n",
        "\n",
        "        else:\n",
        "            raise NotImplementedError(f'Unknown tool call: {tool_call[\"name\"]}')\n",
        "\n",
        "        # Record the tool results as tool messages.\n",
        "        outbound_msgs.append(\n",
        "            ToolMessage(\n",
        "                content=response,\n",
        "                name=tool_call[\"name\"],\n",
        "                tool_call_id=tool_call[\"id\"],\n",
        "            )\n",
        "        )\n",
        "\n",
        "    return {\n",
        "        \"messages\": outbound_msgs,\n",
        "        \"requirements\": requirements_state,\n",
        "        'budget': budget_state,\n",
        "        'recommendations': recommendations_state,\n",
        "        \"build_complete\": build_complete\n",
        "    }"
      ],
      "metadata": {
        "id": "51rRWwKoI2yq"
      },
      "execution_count": 17,
      "outputs": []
    },
    {
      "cell_type": "code",
      "source": [
        "def chatbot_node(state: PCBuilderState) -> PCBuilderState:\n",
        "    \"\"\"The chatbot itself. A simple wrapper around the model's own chat interface.\"\"\"\n",
        "    default_state = {'requirements': [], 'budget': None, 'recommendations': [], 'build_complete': False}\n",
        "\n",
        "    if state['messages']:\n",
        "        # If there are messages, continue the conversation with the model\n",
        "        message_history = [PC_BUILDER_SYSINT] + state[\"messages\"]\n",
        "        new_output = llm_with_tools.invoke(message_history)\n",
        "    else:\n",
        "        # If there are no messages, welcome the user.\n",
        "        new_output = AIMessage(content=WELCOME_MSG)\n",
        "\n",
        "    # Setup some defaults, then override with whatever exists in state, and finally\n",
        "    # override with messages\n",
        "    return default_state | state | {\"messages\": [new_output]}"
      ],
      "metadata": {
        "id": "lzsqL221mQUL"
      },
      "execution_count": 18,
      "outputs": []
    },
    {
      "cell_type": "code",
      "source": [
        "def human_node(state: PCBuilderState) -> PCBuilderState:\n",
        "    \"\"\"Display the last message from the model to the user, and receive their input.\"\"\"\n",
        "    last_msg = state['messages'][-1]\n",
        "    print('Model:', last_msg.content)\n",
        "\n",
        "    user_input = input('User: ')\n",
        "\n",
        "    # Does the user wish to quit?\n",
        "    if user_input in {'q', 'quit', 'exit', 'goodbye'}:\n",
        "        state['build_complete'] = True\n",
        "\n",
        "    return state | {'messages': [('user', user_input)]}"
      ],
      "metadata": {
        "id": "ooizLUht1wRS"
      },
      "execution_count": 19,
      "outputs": []
    },
    {
      "cell_type": "code",
      "source": [
        "# Human to Exit OR Human to Chatbot; Conditional Edge Transition function\n",
        "def maybe_exit_human_node(state: PCBuilderState) -> Literal[\"chatbot\", \"__end__\"]:\n",
        "    \"\"\"Route to the chatbot, unless it looks like the user is exiting.\"\"\"\n",
        "    if state.get(\"build_complete\", False):\n",
        "        return END\n",
        "    else:\n",
        "        return \"chatbot\""
      ],
      "metadata": {
        "id": "gqmUpWsu4wPZ"
      },
      "execution_count": 20,
      "outputs": []
    },
    {
      "cell_type": "code",
      "source": [
        "# Chatbot to Tools OR Chatbot to Human; Conditional Edge Transition function\n",
        "def maybe_route_to_tools(state: PCBuilderState) -> str:\n",
        "    if not (msgs := state.get('messages', [])):\n",
        "        raise ValueError(f'No messages found when parsing state: {state}')\n",
        "\n",
        "    # Only route based on the last message.\n",
        "    msg = msgs[-1]\n",
        "\n",
        "    if state.get('build_complete', False):\n",
        "        # If the user has no more questions or indicates satisfaction, complete the build\n",
        "        return END\n",
        "    elif hasattr(msg, 'tool_calls') and len(msg.tool_calls) > 0:\n",
        "        # When chatbot returns tool_calls, route to the 'tools' node\n",
        "        if any(tool['name'] in tool_node.tools_by_name.keys() for tool in msg.tool_calls):\n",
        "            return 'tools'\n",
        "        # elif any(tool['name'] in pc_planner_node.tools_by_name.keys() for tool in msg.tool_calls):\n",
        "        #     return 'pc_planner'\n",
        "        # elif any(tool['name'] in optimize_build_node.tools_by_name.keys() for tool in msg.tool_calls):\n",
        "        #     return 'optimize_build'\n",
        "        elif any(tool['name'] in [func.name for func in planner_tools] for tool in msg.tool_calls):\n",
        "            return 'pc_planner'\n",
        "        elif any(tool['name'] in [func.name for func in builder_tools] for tool in msg.tool_calls):\n",
        "            return 'optimize_build'\n",
        "        else:\n",
        "            raise ValueError(f'No such node existent: {tool[\"name\"]}')\n",
        "    else:\n",
        "        return 'human'"
      ],
      "metadata": {
        "id": "gH9EZoIkBXWH"
      },
      "execution_count": 109,
      "outputs": []
    },
    {
      "cell_type": "code",
      "source": [
        "# Set up the initial graph based on our state definition.\n",
        "graph_builder = StateGraph(PCBuilderState)\n",
        "\n",
        "# Add all the nodes to the app graph.\n",
        "graph_builder.add_node(\"chatbot\", chatbot_node)\n",
        "graph_builder.add_node(\"human\", human_node)\n",
        "graph_builder.add_node(\"tools\", tool_node)\n",
        "graph_builder.add_node(\"pc_planner\", pc_planner_node)\n",
        "graph_builder.add_node(\"optimize_build\", optimize_build_node)\n",
        "\n",
        "# Define the chatbot node as the app entrypoint.\n",
        "graph_builder.add_edge(START, \"chatbot\")\n",
        "\n",
        "# Edge transitions\n",
        "graph_builder.add_conditional_edges(\"chatbot\", maybe_route_to_tools)\n",
        "graph_builder.add_conditional_edges(\"human\", maybe_exit_human_node)\n",
        "graph_builder.add_edge(\"tools\", \"chatbot\")\n",
        "graph_builder.add_edge(\"pc_planner\", \"chatbot\")\n",
        "graph_builder.add_edge(\"optimize_build\", \"chatbot\")\n",
        "\n",
        "chat_graph = graph_builder.compile()"
      ],
      "metadata": {
        "id": "vz-kOlcOwKry"
      },
      "execution_count": 110,
      "outputs": []
    },
    {
      "cell_type": "code",
      "source": [
        "# Visualize the graph created.\n",
        "Image(chat_graph.get_graph().draw_mermaid_png())"
      ],
      "metadata": {
        "colab": {
          "base_uri": "https://localhost:8080/",
          "height": 495
        },
        "id": "quysN6udx6zb",
        "outputId": "c8303f1f-ec20-4156-e213-40620e37f05d"
      },
      "execution_count": 111,
      "outputs": [
        {
          "output_type": "error",
          "ename": "ReadTimeout",
          "evalue": "HTTPSConnectionPool(host='mermaid.ink', port=443): Read timed out. (read timeout=10)",
          "traceback": [
            "\u001b[0;31m---------------------------------------------------------------------------\u001b[0m",
            "\u001b[0;31mTimeoutError\u001b[0m                              Traceback (most recent call last)",
            "\u001b[0;32m/usr/local/lib/python3.11/dist-packages/urllib3/connectionpool.py\u001b[0m in \u001b[0;36m_make_request\u001b[0;34m(self, conn, method, url, body, headers, retries, timeout, chunked, response_conn, preload_content, decode_content, enforce_content_length)\u001b[0m\n\u001b[1;32m    533\u001b[0m         \u001b[0;32mtry\u001b[0m\u001b[0;34m:\u001b[0m\u001b[0;34m\u001b[0m\u001b[0;34m\u001b[0m\u001b[0m\n\u001b[0;32m--> 534\u001b[0;31m             \u001b[0mresponse\u001b[0m \u001b[0;34m=\u001b[0m \u001b[0mconn\u001b[0m\u001b[0;34m.\u001b[0m\u001b[0mgetresponse\u001b[0m\u001b[0;34m(\u001b[0m\u001b[0;34m)\u001b[0m\u001b[0;34m\u001b[0m\u001b[0;34m\u001b[0m\u001b[0m\n\u001b[0m\u001b[1;32m    535\u001b[0m         \u001b[0;32mexcept\u001b[0m \u001b[0;34m(\u001b[0m\u001b[0mBaseSSLError\u001b[0m\u001b[0;34m,\u001b[0m \u001b[0mOSError\u001b[0m\u001b[0;34m)\u001b[0m \u001b[0;32mas\u001b[0m \u001b[0me\u001b[0m\u001b[0;34m:\u001b[0m\u001b[0;34m\u001b[0m\u001b[0;34m\u001b[0m\u001b[0m\n",
            "\u001b[0;32m/usr/local/lib/python3.11/dist-packages/urllib3/connection.py\u001b[0m in \u001b[0;36mgetresponse\u001b[0;34m(self)\u001b[0m\n\u001b[1;32m    515\u001b[0m         \u001b[0;31m# Get the response from http.client.HTTPConnection\u001b[0m\u001b[0;34m\u001b[0m\u001b[0;34m\u001b[0m\u001b[0m\n\u001b[0;32m--> 516\u001b[0;31m         \u001b[0mhttplib_response\u001b[0m \u001b[0;34m=\u001b[0m \u001b[0msuper\u001b[0m\u001b[0;34m(\u001b[0m\u001b[0;34m)\u001b[0m\u001b[0;34m.\u001b[0m\u001b[0mgetresponse\u001b[0m\u001b[0;34m(\u001b[0m\u001b[0;34m)\u001b[0m\u001b[0;34m\u001b[0m\u001b[0;34m\u001b[0m\u001b[0m\n\u001b[0m\u001b[1;32m    517\u001b[0m \u001b[0;34m\u001b[0m\u001b[0m\n",
            "\u001b[0;32m/usr/lib/python3.11/http/client.py\u001b[0m in \u001b[0;36mgetresponse\u001b[0;34m(self)\u001b[0m\n\u001b[1;32m   1394\u001b[0m             \u001b[0;32mtry\u001b[0m\u001b[0;34m:\u001b[0m\u001b[0;34m\u001b[0m\u001b[0;34m\u001b[0m\u001b[0m\n\u001b[0;32m-> 1395\u001b[0;31m                 \u001b[0mresponse\u001b[0m\u001b[0;34m.\u001b[0m\u001b[0mbegin\u001b[0m\u001b[0;34m(\u001b[0m\u001b[0;34m)\u001b[0m\u001b[0;34m\u001b[0m\u001b[0;34m\u001b[0m\u001b[0m\n\u001b[0m\u001b[1;32m   1396\u001b[0m             \u001b[0;32mexcept\u001b[0m \u001b[0mConnectionError\u001b[0m\u001b[0;34m:\u001b[0m\u001b[0;34m\u001b[0m\u001b[0;34m\u001b[0m\u001b[0m\n",
            "\u001b[0;32m/usr/lib/python3.11/http/client.py\u001b[0m in \u001b[0;36mbegin\u001b[0;34m(self)\u001b[0m\n\u001b[1;32m    324\u001b[0m         \u001b[0;32mwhile\u001b[0m \u001b[0;32mTrue\u001b[0m\u001b[0;34m:\u001b[0m\u001b[0;34m\u001b[0m\u001b[0;34m\u001b[0m\u001b[0m\n\u001b[0;32m--> 325\u001b[0;31m             \u001b[0mversion\u001b[0m\u001b[0;34m,\u001b[0m \u001b[0mstatus\u001b[0m\u001b[0;34m,\u001b[0m \u001b[0mreason\u001b[0m \u001b[0;34m=\u001b[0m \u001b[0mself\u001b[0m\u001b[0;34m.\u001b[0m\u001b[0m_read_status\u001b[0m\u001b[0;34m(\u001b[0m\u001b[0;34m)\u001b[0m\u001b[0;34m\u001b[0m\u001b[0;34m\u001b[0m\u001b[0m\n\u001b[0m\u001b[1;32m    326\u001b[0m             \u001b[0;32mif\u001b[0m \u001b[0mstatus\u001b[0m \u001b[0;34m!=\u001b[0m \u001b[0mCONTINUE\u001b[0m\u001b[0;34m:\u001b[0m\u001b[0;34m\u001b[0m\u001b[0;34m\u001b[0m\u001b[0m\n",
            "\u001b[0;32m/usr/lib/python3.11/http/client.py\u001b[0m in \u001b[0;36m_read_status\u001b[0;34m(self)\u001b[0m\n\u001b[1;32m    285\u001b[0m     \u001b[0;32mdef\u001b[0m \u001b[0m_read_status\u001b[0m\u001b[0;34m(\u001b[0m\u001b[0mself\u001b[0m\u001b[0;34m)\u001b[0m\u001b[0;34m:\u001b[0m\u001b[0;34m\u001b[0m\u001b[0;34m\u001b[0m\u001b[0m\n\u001b[0;32m--> 286\u001b[0;31m         \u001b[0mline\u001b[0m \u001b[0;34m=\u001b[0m \u001b[0mstr\u001b[0m\u001b[0;34m(\u001b[0m\u001b[0mself\u001b[0m\u001b[0;34m.\u001b[0m\u001b[0mfp\u001b[0m\u001b[0;34m.\u001b[0m\u001b[0mreadline\u001b[0m\u001b[0;34m(\u001b[0m\u001b[0m_MAXLINE\u001b[0m \u001b[0;34m+\u001b[0m \u001b[0;36m1\u001b[0m\u001b[0;34m)\u001b[0m\u001b[0;34m,\u001b[0m \u001b[0;34m\"iso-8859-1\"\u001b[0m\u001b[0;34m)\u001b[0m\u001b[0;34m\u001b[0m\u001b[0;34m\u001b[0m\u001b[0m\n\u001b[0m\u001b[1;32m    287\u001b[0m         \u001b[0;32mif\u001b[0m \u001b[0mlen\u001b[0m\u001b[0;34m(\u001b[0m\u001b[0mline\u001b[0m\u001b[0;34m)\u001b[0m \u001b[0;34m>\u001b[0m \u001b[0m_MAXLINE\u001b[0m\u001b[0;34m:\u001b[0m\u001b[0;34m\u001b[0m\u001b[0;34m\u001b[0m\u001b[0m\n",
            "\u001b[0;32m/usr/lib/python3.11/socket.py\u001b[0m in \u001b[0;36mreadinto\u001b[0;34m(self, b)\u001b[0m\n\u001b[1;32m    717\u001b[0m             \u001b[0;32mtry\u001b[0m\u001b[0;34m:\u001b[0m\u001b[0;34m\u001b[0m\u001b[0;34m\u001b[0m\u001b[0m\n\u001b[0;32m--> 718\u001b[0;31m                 \u001b[0;32mreturn\u001b[0m \u001b[0mself\u001b[0m\u001b[0;34m.\u001b[0m\u001b[0m_sock\u001b[0m\u001b[0;34m.\u001b[0m\u001b[0mrecv_into\u001b[0m\u001b[0;34m(\u001b[0m\u001b[0mb\u001b[0m\u001b[0;34m)\u001b[0m\u001b[0;34m\u001b[0m\u001b[0;34m\u001b[0m\u001b[0m\n\u001b[0m\u001b[1;32m    719\u001b[0m             \u001b[0;32mexcept\u001b[0m \u001b[0mtimeout\u001b[0m\u001b[0;34m:\u001b[0m\u001b[0;34m\u001b[0m\u001b[0;34m\u001b[0m\u001b[0m\n",
            "\u001b[0;32m/usr/lib/python3.11/ssl.py\u001b[0m in \u001b[0;36mrecv_into\u001b[0;34m(self, buffer, nbytes, flags)\u001b[0m\n\u001b[1;32m   1313\u001b[0m                   self.__class__)\n\u001b[0;32m-> 1314\u001b[0;31m             \u001b[0;32mreturn\u001b[0m \u001b[0mself\u001b[0m\u001b[0;34m.\u001b[0m\u001b[0mread\u001b[0m\u001b[0;34m(\u001b[0m\u001b[0mnbytes\u001b[0m\u001b[0;34m,\u001b[0m \u001b[0mbuffer\u001b[0m\u001b[0;34m)\u001b[0m\u001b[0;34m\u001b[0m\u001b[0;34m\u001b[0m\u001b[0m\n\u001b[0m\u001b[1;32m   1315\u001b[0m         \u001b[0;32melse\u001b[0m\u001b[0;34m:\u001b[0m\u001b[0;34m\u001b[0m\u001b[0;34m\u001b[0m\u001b[0m\n",
            "\u001b[0;32m/usr/lib/python3.11/ssl.py\u001b[0m in \u001b[0;36mread\u001b[0;34m(self, len, buffer)\u001b[0m\n\u001b[1;32m   1165\u001b[0m             \u001b[0;32mif\u001b[0m \u001b[0mbuffer\u001b[0m \u001b[0;32mis\u001b[0m \u001b[0;32mnot\u001b[0m \u001b[0;32mNone\u001b[0m\u001b[0;34m:\u001b[0m\u001b[0;34m\u001b[0m\u001b[0;34m\u001b[0m\u001b[0m\n\u001b[0;32m-> 1166\u001b[0;31m                 \u001b[0;32mreturn\u001b[0m \u001b[0mself\u001b[0m\u001b[0;34m.\u001b[0m\u001b[0m_sslobj\u001b[0m\u001b[0;34m.\u001b[0m\u001b[0mread\u001b[0m\u001b[0;34m(\u001b[0m\u001b[0mlen\u001b[0m\u001b[0;34m,\u001b[0m \u001b[0mbuffer\u001b[0m\u001b[0;34m)\u001b[0m\u001b[0;34m\u001b[0m\u001b[0;34m\u001b[0m\u001b[0m\n\u001b[0m\u001b[1;32m   1167\u001b[0m             \u001b[0;32melse\u001b[0m\u001b[0;34m:\u001b[0m\u001b[0;34m\u001b[0m\u001b[0;34m\u001b[0m\u001b[0m\n",
            "\u001b[0;31mTimeoutError\u001b[0m: The read operation timed out",
            "\nThe above exception was the direct cause of the following exception:\n",
            "\u001b[0;31mReadTimeoutError\u001b[0m                          Traceback (most recent call last)",
            "\u001b[0;32m/usr/local/lib/python3.11/dist-packages/requests/adapters.py\u001b[0m in \u001b[0;36msend\u001b[0;34m(self, request, stream, timeout, verify, cert, proxies)\u001b[0m\n\u001b[1;32m    666\u001b[0m         \u001b[0;32mtry\u001b[0m\u001b[0;34m:\u001b[0m\u001b[0;34m\u001b[0m\u001b[0;34m\u001b[0m\u001b[0m\n\u001b[0;32m--> 667\u001b[0;31m             resp = conn.urlopen(\n\u001b[0m\u001b[1;32m    668\u001b[0m                 \u001b[0mmethod\u001b[0m\u001b[0;34m=\u001b[0m\u001b[0mrequest\u001b[0m\u001b[0;34m.\u001b[0m\u001b[0mmethod\u001b[0m\u001b[0;34m,\u001b[0m\u001b[0;34m\u001b[0m\u001b[0;34m\u001b[0m\u001b[0m\n",
            "\u001b[0;32m/usr/local/lib/python3.11/dist-packages/urllib3/connectionpool.py\u001b[0m in \u001b[0;36murlopen\u001b[0;34m(self, method, url, body, headers, retries, redirect, assert_same_host, timeout, pool_timeout, release_conn, chunked, body_pos, preload_content, decode_content, **response_kw)\u001b[0m\n\u001b[1;32m    840\u001b[0m \u001b[0;34m\u001b[0m\u001b[0m\n\u001b[0;32m--> 841\u001b[0;31m             retries = retries.increment(\n\u001b[0m\u001b[1;32m    842\u001b[0m                 \u001b[0mmethod\u001b[0m\u001b[0;34m,\u001b[0m \u001b[0murl\u001b[0m\u001b[0;34m,\u001b[0m \u001b[0merror\u001b[0m\u001b[0;34m=\u001b[0m\u001b[0mnew_e\u001b[0m\u001b[0;34m,\u001b[0m \u001b[0m_pool\u001b[0m\u001b[0;34m=\u001b[0m\u001b[0mself\u001b[0m\u001b[0;34m,\u001b[0m \u001b[0m_stacktrace\u001b[0m\u001b[0;34m=\u001b[0m\u001b[0msys\u001b[0m\u001b[0;34m.\u001b[0m\u001b[0mexc_info\u001b[0m\u001b[0;34m(\u001b[0m\u001b[0;34m)\u001b[0m\u001b[0;34m[\u001b[0m\u001b[0;36m2\u001b[0m\u001b[0;34m]\u001b[0m\u001b[0;34m\u001b[0m\u001b[0;34m\u001b[0m\u001b[0m\n",
            "\u001b[0;32m/usr/local/lib/python3.11/dist-packages/urllib3/util/retry.py\u001b[0m in \u001b[0;36mincrement\u001b[0;34m(self, method, url, response, error, _pool, _stacktrace)\u001b[0m\n\u001b[1;32m    473\u001b[0m             \u001b[0;32mif\u001b[0m \u001b[0mread\u001b[0m \u001b[0;32mis\u001b[0m \u001b[0;32mFalse\u001b[0m \u001b[0;32mor\u001b[0m \u001b[0mmethod\u001b[0m \u001b[0;32mis\u001b[0m \u001b[0;32mNone\u001b[0m \u001b[0;32mor\u001b[0m \u001b[0;32mnot\u001b[0m \u001b[0mself\u001b[0m\u001b[0;34m.\u001b[0m\u001b[0m_is_method_retryable\u001b[0m\u001b[0;34m(\u001b[0m\u001b[0mmethod\u001b[0m\u001b[0;34m)\u001b[0m\u001b[0;34m:\u001b[0m\u001b[0;34m\u001b[0m\u001b[0;34m\u001b[0m\u001b[0m\n\u001b[0;32m--> 474\u001b[0;31m                 \u001b[0;32mraise\u001b[0m \u001b[0mreraise\u001b[0m\u001b[0;34m(\u001b[0m\u001b[0mtype\u001b[0m\u001b[0;34m(\u001b[0m\u001b[0merror\u001b[0m\u001b[0;34m)\u001b[0m\u001b[0;34m,\u001b[0m \u001b[0merror\u001b[0m\u001b[0;34m,\u001b[0m \u001b[0m_stacktrace\u001b[0m\u001b[0;34m)\u001b[0m\u001b[0;34m\u001b[0m\u001b[0;34m\u001b[0m\u001b[0m\n\u001b[0m\u001b[1;32m    475\u001b[0m             \u001b[0;32melif\u001b[0m \u001b[0mread\u001b[0m \u001b[0;32mis\u001b[0m \u001b[0;32mnot\u001b[0m \u001b[0;32mNone\u001b[0m\u001b[0;34m:\u001b[0m\u001b[0;34m\u001b[0m\u001b[0;34m\u001b[0m\u001b[0m\n",
            "\u001b[0;32m/usr/local/lib/python3.11/dist-packages/urllib3/util/util.py\u001b[0m in \u001b[0;36mreraise\u001b[0;34m(tp, value, tb)\u001b[0m\n\u001b[1;32m     38\u001b[0m             \u001b[0;32mraise\u001b[0m \u001b[0mvalue\u001b[0m\u001b[0;34m.\u001b[0m\u001b[0mwith_traceback\u001b[0m\u001b[0;34m(\u001b[0m\u001b[0mtb\u001b[0m\u001b[0;34m)\u001b[0m\u001b[0;34m\u001b[0m\u001b[0;34m\u001b[0m\u001b[0m\n\u001b[0;32m---> 39\u001b[0;31m         \u001b[0;32mraise\u001b[0m \u001b[0mvalue\u001b[0m\u001b[0;34m\u001b[0m\u001b[0;34m\u001b[0m\u001b[0m\n\u001b[0m\u001b[1;32m     40\u001b[0m     \u001b[0;32mfinally\u001b[0m\u001b[0;34m:\u001b[0m\u001b[0;34m\u001b[0m\u001b[0;34m\u001b[0m\u001b[0m\n",
            "\u001b[0;32m/usr/local/lib/python3.11/dist-packages/urllib3/connectionpool.py\u001b[0m in \u001b[0;36murlopen\u001b[0;34m(self, method, url, body, headers, retries, redirect, assert_same_host, timeout, pool_timeout, release_conn, chunked, body_pos, preload_content, decode_content, **response_kw)\u001b[0m\n\u001b[1;32m    786\u001b[0m             \u001b[0;31m# Make the request on the HTTPConnection object\u001b[0m\u001b[0;34m\u001b[0m\u001b[0;34m\u001b[0m\u001b[0m\n\u001b[0;32m--> 787\u001b[0;31m             response = self._make_request(\n\u001b[0m\u001b[1;32m    788\u001b[0m                 \u001b[0mconn\u001b[0m\u001b[0;34m,\u001b[0m\u001b[0;34m\u001b[0m\u001b[0;34m\u001b[0m\u001b[0m\n",
            "\u001b[0;32m/usr/local/lib/python3.11/dist-packages/urllib3/connectionpool.py\u001b[0m in \u001b[0;36m_make_request\u001b[0;34m(self, conn, method, url, body, headers, retries, timeout, chunked, response_conn, preload_content, decode_content, enforce_content_length)\u001b[0m\n\u001b[1;32m    535\u001b[0m         \u001b[0;32mexcept\u001b[0m \u001b[0;34m(\u001b[0m\u001b[0mBaseSSLError\u001b[0m\u001b[0;34m,\u001b[0m \u001b[0mOSError\u001b[0m\u001b[0;34m)\u001b[0m \u001b[0;32mas\u001b[0m \u001b[0me\u001b[0m\u001b[0;34m:\u001b[0m\u001b[0;34m\u001b[0m\u001b[0;34m\u001b[0m\u001b[0m\n\u001b[0;32m--> 536\u001b[0;31m             \u001b[0mself\u001b[0m\u001b[0;34m.\u001b[0m\u001b[0m_raise_timeout\u001b[0m\u001b[0;34m(\u001b[0m\u001b[0merr\u001b[0m\u001b[0;34m=\u001b[0m\u001b[0me\u001b[0m\u001b[0;34m,\u001b[0m \u001b[0murl\u001b[0m\u001b[0;34m=\u001b[0m\u001b[0murl\u001b[0m\u001b[0;34m,\u001b[0m \u001b[0mtimeout_value\u001b[0m\u001b[0;34m=\u001b[0m\u001b[0mread_timeout\u001b[0m\u001b[0;34m)\u001b[0m\u001b[0;34m\u001b[0m\u001b[0;34m\u001b[0m\u001b[0m\n\u001b[0m\u001b[1;32m    537\u001b[0m             \u001b[0;32mraise\u001b[0m\u001b[0;34m\u001b[0m\u001b[0;34m\u001b[0m\u001b[0m\n",
            "\u001b[0;32m/usr/local/lib/python3.11/dist-packages/urllib3/connectionpool.py\u001b[0m in \u001b[0;36m_raise_timeout\u001b[0;34m(self, err, url, timeout_value)\u001b[0m\n\u001b[1;32m    366\u001b[0m         \u001b[0;32mif\u001b[0m \u001b[0misinstance\u001b[0m\u001b[0;34m(\u001b[0m\u001b[0merr\u001b[0m\u001b[0;34m,\u001b[0m \u001b[0mSocketTimeout\u001b[0m\u001b[0;34m)\u001b[0m\u001b[0;34m:\u001b[0m\u001b[0;34m\u001b[0m\u001b[0;34m\u001b[0m\u001b[0m\n\u001b[0;32m--> 367\u001b[0;31m             raise ReadTimeoutError(\n\u001b[0m\u001b[1;32m    368\u001b[0m                 \u001b[0mself\u001b[0m\u001b[0;34m,\u001b[0m \u001b[0murl\u001b[0m\u001b[0;34m,\u001b[0m \u001b[0;34mf\"Read timed out. (read timeout={timeout_value})\"\u001b[0m\u001b[0;34m\u001b[0m\u001b[0;34m\u001b[0m\u001b[0m\n",
            "\u001b[0;31mReadTimeoutError\u001b[0m: HTTPSConnectionPool(host='mermaid.ink', port=443): Read timed out. (read timeout=10)",
            "\nDuring handling of the above exception, another exception occurred:\n",
            "\u001b[0;31mReadTimeout\u001b[0m                               Traceback (most recent call last)",
            "\u001b[0;32m<ipython-input-111-add1621e23e2>\u001b[0m in \u001b[0;36m<cell line: 0>\u001b[0;34m()\u001b[0m\n\u001b[1;32m      1\u001b[0m \u001b[0;31m# Visualize the graph created.\u001b[0m\u001b[0;34m\u001b[0m\u001b[0;34m\u001b[0m\u001b[0m\n\u001b[0;32m----> 2\u001b[0;31m \u001b[0mImage\u001b[0m\u001b[0;34m(\u001b[0m\u001b[0mchat_graph\u001b[0m\u001b[0;34m.\u001b[0m\u001b[0mget_graph\u001b[0m\u001b[0;34m(\u001b[0m\u001b[0;34m)\u001b[0m\u001b[0;34m.\u001b[0m\u001b[0mdraw_mermaid_png\u001b[0m\u001b[0;34m(\u001b[0m\u001b[0;34m)\u001b[0m\u001b[0;34m)\u001b[0m\u001b[0;34m\u001b[0m\u001b[0;34m\u001b[0m\u001b[0m\n\u001b[0m",
            "\u001b[0;32m/usr/local/lib/python3.11/dist-packages/langchain_core/runnables/graph.py\u001b[0m in \u001b[0;36mdraw_mermaid_png\u001b[0;34m(self, curve_style, node_colors, wrap_label_n_words, output_file_path, draw_method, background_color, padding, frontmatter_config)\u001b[0m\n\u001b[1;32m    677\u001b[0m             \u001b[0mfrontmatter_config\u001b[0m\u001b[0;34m=\u001b[0m\u001b[0mfrontmatter_config\u001b[0m\u001b[0;34m,\u001b[0m\u001b[0;34m\u001b[0m\u001b[0;34m\u001b[0m\u001b[0m\n\u001b[1;32m    678\u001b[0m         )\n\u001b[0;32m--> 679\u001b[0;31m         return draw_mermaid_png(\n\u001b[0m\u001b[1;32m    680\u001b[0m             \u001b[0mmermaid_syntax\u001b[0m\u001b[0;34m=\u001b[0m\u001b[0mmermaid_syntax\u001b[0m\u001b[0;34m,\u001b[0m\u001b[0;34m\u001b[0m\u001b[0;34m\u001b[0m\u001b[0m\n\u001b[1;32m    681\u001b[0m             \u001b[0moutput_file_path\u001b[0m\u001b[0;34m=\u001b[0m\u001b[0moutput_file_path\u001b[0m\u001b[0;34m,\u001b[0m\u001b[0;34m\u001b[0m\u001b[0;34m\u001b[0m\u001b[0m\n",
            "\u001b[0;32m/usr/local/lib/python3.11/dist-packages/langchain_core/runnables/graph_mermaid.py\u001b[0m in \u001b[0;36mdraw_mermaid_png\u001b[0;34m(mermaid_syntax, output_file_path, draw_method, background_color, padding)\u001b[0m\n\u001b[1;32m    283\u001b[0m         )\n\u001b[1;32m    284\u001b[0m     \u001b[0;32melif\u001b[0m \u001b[0mdraw_method\u001b[0m \u001b[0;34m==\u001b[0m \u001b[0mMermaidDrawMethod\u001b[0m\u001b[0;34m.\u001b[0m\u001b[0mAPI\u001b[0m\u001b[0;34m:\u001b[0m\u001b[0;34m\u001b[0m\u001b[0;34m\u001b[0m\u001b[0m\n\u001b[0;32m--> 285\u001b[0;31m         img_bytes = _render_mermaid_using_api(\n\u001b[0m\u001b[1;32m    286\u001b[0m             \u001b[0mmermaid_syntax\u001b[0m\u001b[0;34m,\u001b[0m \u001b[0moutput_file_path\u001b[0m\u001b[0;34m,\u001b[0m \u001b[0mbackground_color\u001b[0m\u001b[0;34m\u001b[0m\u001b[0;34m\u001b[0m\u001b[0m\n\u001b[1;32m    287\u001b[0m         )\n",
            "\u001b[0;32m/usr/local/lib/python3.11/dist-packages/langchain_core/runnables/graph_mermaid.py\u001b[0m in \u001b[0;36m_render_mermaid_using_api\u001b[0;34m(mermaid_syntax, output_file_path, background_color, file_type)\u001b[0m\n\u001b[1;32m    401\u001b[0m         \u001b[0;34mf\"?type={file_type}&bgColor={background_color}\"\u001b[0m\u001b[0;34m\u001b[0m\u001b[0;34m\u001b[0m\u001b[0m\n\u001b[1;32m    402\u001b[0m     )\n\u001b[0;32m--> 403\u001b[0;31m     \u001b[0mresponse\u001b[0m \u001b[0;34m=\u001b[0m \u001b[0mrequests\u001b[0m\u001b[0;34m.\u001b[0m\u001b[0mget\u001b[0m\u001b[0;34m(\u001b[0m\u001b[0mimage_url\u001b[0m\u001b[0;34m,\u001b[0m \u001b[0mtimeout\u001b[0m\u001b[0;34m=\u001b[0m\u001b[0;36m10\u001b[0m\u001b[0;34m)\u001b[0m\u001b[0;34m\u001b[0m\u001b[0;34m\u001b[0m\u001b[0m\n\u001b[0m\u001b[1;32m    404\u001b[0m     \u001b[0;32mif\u001b[0m \u001b[0mresponse\u001b[0m\u001b[0;34m.\u001b[0m\u001b[0mstatus_code\u001b[0m \u001b[0;34m==\u001b[0m \u001b[0;36m200\u001b[0m\u001b[0;34m:\u001b[0m\u001b[0;34m\u001b[0m\u001b[0;34m\u001b[0m\u001b[0m\n\u001b[1;32m    405\u001b[0m         \u001b[0mimg_bytes\u001b[0m \u001b[0;34m=\u001b[0m \u001b[0mresponse\u001b[0m\u001b[0;34m.\u001b[0m\u001b[0mcontent\u001b[0m\u001b[0;34m\u001b[0m\u001b[0;34m\u001b[0m\u001b[0m\n",
            "\u001b[0;32m/usr/local/lib/python3.11/dist-packages/requests/api.py\u001b[0m in \u001b[0;36mget\u001b[0;34m(url, params, **kwargs)\u001b[0m\n\u001b[1;32m     71\u001b[0m     \"\"\"\n\u001b[1;32m     72\u001b[0m \u001b[0;34m\u001b[0m\u001b[0m\n\u001b[0;32m---> 73\u001b[0;31m     \u001b[0;32mreturn\u001b[0m \u001b[0mrequest\u001b[0m\u001b[0;34m(\u001b[0m\u001b[0;34m\"get\"\u001b[0m\u001b[0;34m,\u001b[0m \u001b[0murl\u001b[0m\u001b[0;34m,\u001b[0m \u001b[0mparams\u001b[0m\u001b[0;34m=\u001b[0m\u001b[0mparams\u001b[0m\u001b[0;34m,\u001b[0m \u001b[0;34m**\u001b[0m\u001b[0mkwargs\u001b[0m\u001b[0;34m)\u001b[0m\u001b[0;34m\u001b[0m\u001b[0;34m\u001b[0m\u001b[0m\n\u001b[0m\u001b[1;32m     74\u001b[0m \u001b[0;34m\u001b[0m\u001b[0m\n\u001b[1;32m     75\u001b[0m \u001b[0;34m\u001b[0m\u001b[0m\n",
            "\u001b[0;32m/usr/local/lib/python3.11/dist-packages/requests/api.py\u001b[0m in \u001b[0;36mrequest\u001b[0;34m(method, url, **kwargs)\u001b[0m\n\u001b[1;32m     57\u001b[0m     \u001b[0;31m# cases, and look like a memory leak in others.\u001b[0m\u001b[0;34m\u001b[0m\u001b[0;34m\u001b[0m\u001b[0m\n\u001b[1;32m     58\u001b[0m     \u001b[0;32mwith\u001b[0m \u001b[0msessions\u001b[0m\u001b[0;34m.\u001b[0m\u001b[0mSession\u001b[0m\u001b[0;34m(\u001b[0m\u001b[0;34m)\u001b[0m \u001b[0;32mas\u001b[0m \u001b[0msession\u001b[0m\u001b[0;34m:\u001b[0m\u001b[0;34m\u001b[0m\u001b[0;34m\u001b[0m\u001b[0m\n\u001b[0;32m---> 59\u001b[0;31m         \u001b[0;32mreturn\u001b[0m \u001b[0msession\u001b[0m\u001b[0;34m.\u001b[0m\u001b[0mrequest\u001b[0m\u001b[0;34m(\u001b[0m\u001b[0mmethod\u001b[0m\u001b[0;34m=\u001b[0m\u001b[0mmethod\u001b[0m\u001b[0;34m,\u001b[0m \u001b[0murl\u001b[0m\u001b[0;34m=\u001b[0m\u001b[0murl\u001b[0m\u001b[0;34m,\u001b[0m \u001b[0;34m**\u001b[0m\u001b[0mkwargs\u001b[0m\u001b[0;34m)\u001b[0m\u001b[0;34m\u001b[0m\u001b[0;34m\u001b[0m\u001b[0m\n\u001b[0m\u001b[1;32m     60\u001b[0m \u001b[0;34m\u001b[0m\u001b[0m\n\u001b[1;32m     61\u001b[0m \u001b[0;34m\u001b[0m\u001b[0m\n",
            "\u001b[0;32m/usr/local/lib/python3.11/dist-packages/requests/sessions.py\u001b[0m in \u001b[0;36mrequest\u001b[0;34m(self, method, url, params, data, headers, cookies, files, auth, timeout, allow_redirects, proxies, hooks, stream, verify, cert, json)\u001b[0m\n\u001b[1;32m    587\u001b[0m         }\n\u001b[1;32m    588\u001b[0m         \u001b[0msend_kwargs\u001b[0m\u001b[0;34m.\u001b[0m\u001b[0mupdate\u001b[0m\u001b[0;34m(\u001b[0m\u001b[0msettings\u001b[0m\u001b[0;34m)\u001b[0m\u001b[0;34m\u001b[0m\u001b[0;34m\u001b[0m\u001b[0m\n\u001b[0;32m--> 589\u001b[0;31m         \u001b[0mresp\u001b[0m \u001b[0;34m=\u001b[0m \u001b[0mself\u001b[0m\u001b[0;34m.\u001b[0m\u001b[0msend\u001b[0m\u001b[0;34m(\u001b[0m\u001b[0mprep\u001b[0m\u001b[0;34m,\u001b[0m \u001b[0;34m**\u001b[0m\u001b[0msend_kwargs\u001b[0m\u001b[0;34m)\u001b[0m\u001b[0;34m\u001b[0m\u001b[0;34m\u001b[0m\u001b[0m\n\u001b[0m\u001b[1;32m    590\u001b[0m \u001b[0;34m\u001b[0m\u001b[0m\n\u001b[1;32m    591\u001b[0m         \u001b[0;32mreturn\u001b[0m \u001b[0mresp\u001b[0m\u001b[0;34m\u001b[0m\u001b[0;34m\u001b[0m\u001b[0m\n",
            "\u001b[0;32m/usr/local/lib/python3.11/dist-packages/requests/sessions.py\u001b[0m in \u001b[0;36msend\u001b[0;34m(self, request, **kwargs)\u001b[0m\n\u001b[1;32m    701\u001b[0m \u001b[0;34m\u001b[0m\u001b[0m\n\u001b[1;32m    702\u001b[0m         \u001b[0;31m# Send the request\u001b[0m\u001b[0;34m\u001b[0m\u001b[0;34m\u001b[0m\u001b[0m\n\u001b[0;32m--> 703\u001b[0;31m         \u001b[0mr\u001b[0m \u001b[0;34m=\u001b[0m \u001b[0madapter\u001b[0m\u001b[0;34m.\u001b[0m\u001b[0msend\u001b[0m\u001b[0;34m(\u001b[0m\u001b[0mrequest\u001b[0m\u001b[0;34m,\u001b[0m \u001b[0;34m**\u001b[0m\u001b[0mkwargs\u001b[0m\u001b[0;34m)\u001b[0m\u001b[0;34m\u001b[0m\u001b[0;34m\u001b[0m\u001b[0m\n\u001b[0m\u001b[1;32m    704\u001b[0m \u001b[0;34m\u001b[0m\u001b[0m\n\u001b[1;32m    705\u001b[0m         \u001b[0;31m# Total elapsed time of the request (approximately)\u001b[0m\u001b[0;34m\u001b[0m\u001b[0;34m\u001b[0m\u001b[0m\n",
            "\u001b[0;32m/usr/local/lib/python3.11/dist-packages/requests/adapters.py\u001b[0m in \u001b[0;36msend\u001b[0;34m(self, request, stream, timeout, verify, cert, proxies)\u001b[0m\n\u001b[1;32m    711\u001b[0m                 \u001b[0;32mraise\u001b[0m \u001b[0mSSLError\u001b[0m\u001b[0;34m(\u001b[0m\u001b[0me\u001b[0m\u001b[0;34m,\u001b[0m \u001b[0mrequest\u001b[0m\u001b[0;34m=\u001b[0m\u001b[0mrequest\u001b[0m\u001b[0;34m)\u001b[0m\u001b[0;34m\u001b[0m\u001b[0;34m\u001b[0m\u001b[0m\n\u001b[1;32m    712\u001b[0m             \u001b[0;32melif\u001b[0m \u001b[0misinstance\u001b[0m\u001b[0;34m(\u001b[0m\u001b[0me\u001b[0m\u001b[0;34m,\u001b[0m \u001b[0mReadTimeoutError\u001b[0m\u001b[0;34m)\u001b[0m\u001b[0;34m:\u001b[0m\u001b[0;34m\u001b[0m\u001b[0;34m\u001b[0m\u001b[0m\n\u001b[0;32m--> 713\u001b[0;31m                 \u001b[0;32mraise\u001b[0m \u001b[0mReadTimeout\u001b[0m\u001b[0;34m(\u001b[0m\u001b[0me\u001b[0m\u001b[0;34m,\u001b[0m \u001b[0mrequest\u001b[0m\u001b[0;34m=\u001b[0m\u001b[0mrequest\u001b[0m\u001b[0;34m)\u001b[0m\u001b[0;34m\u001b[0m\u001b[0;34m\u001b[0m\u001b[0m\n\u001b[0m\u001b[1;32m    714\u001b[0m             \u001b[0;32melif\u001b[0m \u001b[0misinstance\u001b[0m\u001b[0;34m(\u001b[0m\u001b[0me\u001b[0m\u001b[0;34m,\u001b[0m \u001b[0m_InvalidHeader\u001b[0m\u001b[0;34m)\u001b[0m\u001b[0;34m:\u001b[0m\u001b[0;34m\u001b[0m\u001b[0;34m\u001b[0m\u001b[0m\n\u001b[1;32m    715\u001b[0m                 \u001b[0;32mraise\u001b[0m \u001b[0mInvalidHeader\u001b[0m\u001b[0;34m(\u001b[0m\u001b[0me\u001b[0m\u001b[0;34m,\u001b[0m \u001b[0mrequest\u001b[0m\u001b[0;34m=\u001b[0m\u001b[0mrequest\u001b[0m\u001b[0;34m)\u001b[0m\u001b[0;34m\u001b[0m\u001b[0;34m\u001b[0m\u001b[0m\n",
            "\u001b[0;31mReadTimeout\u001b[0m: HTTPSConnectionPool(host='mermaid.ink', port=443): Read timed out. (read timeout=10)"
          ]
        }
      ]
    },
    {
      "cell_type": "code",
      "source": [
        "# The default recursion limit for traversing nodes is 25 - setting it higher means\n",
        "# you can try a more complex order with multiple steps and round-trips (and you\n",
        "# can chat for longer!)\n",
        "config = {\"recursion_limit\": 100}\n",
        "\n",
        "# Remember that this will loop forever, unless you input `q`, `quit` or one of the\n",
        "# other exit terms defined in `human_node`.\n",
        "# Uncomment this line to execute the graph:\n",
        "state = chat_graph.invoke({\"messages\": []}, config)\n",
        "\n",
        "# Things to try:\n",
        "#  - Just chat! There's no ordering or menu yet.\n",
        "#  - 'q' to exit.\n",
        "\n",
        "pprint(state)"
      ],
      "metadata": {
        "colab": {
          "base_uri": "https://localhost:8080/",
          "height": 862
        },
        "id": "VDcqNgjV0KES",
        "outputId": "b820f2f4-f86d-4e9c-86f1-e58d4a2f3f9d"
      },
      "execution_count": 112,
      "outputs": [
        {
          "name": "stdout",
          "output_type": "stream",
          "text": [
            "Model: Welcome to the PC Builder Assistant! (Type `q` to quit). I'll help you find the perfect computer based on your needs and budget. Could you tell me your budget and what you'll be using this PC for? (Gaming, office work, content creation, etc.)\n",
            "User: I want an office laptop for $500\n",
            "Model: Got it. So you're looking for an office laptop with a budget of $500. Do you have any specific requirements for the laptop, such as screen size, storage capacity, or operating system?\n",
            "User: No\n",
            "Model: OK, I have added your requirements. You're looking for an office laptop with a budget of $500. Is that correct?\n",
            "User: Yes\n",
            "Model: I've found a few options for you. Here are some laptops that fit your criteria:\n",
            "\n",
            "*   **Lenovo IdeaPad 1 15.6\" Laptop:** AMD Ryzen 5 7520U, 8GB RAM, 256GB SSD - $399.00\n",
            "    ([https://www.walmart.com/ip/Lenovo-IdeaPad-1-15-6-Laptop-AMD-Ryzen-5-7520U-8GB-RAM-256GB-SSD-Cloud-Grey-Windows-11-Home-82VG000DUS/2820579089?athbdg=L1600](https://www.walmart.com/ip/Lenovo-IdeaPad-1-15-6-Laptop-AMD-Ryzen-5-7520U-8GB-RAM-256GB-SSD-Cloud-Grey-Windows-11-Home-82VG000DUS/2820579089?athbdg=L1600))\n",
            "\n",
            "*   **HP 15.6\" Laptop:** AMD Ryzen 5 5500U, 8 GB RAM, 256 GB SSD - $379.00\n",
            "    ([https://www.walmart.com/ip/HP-15-6-Laptop-AMD-Ryzen-5-5500U-8-GB-RAM-256-GB-SSD-Windows-11-Home-Natural-Silver-15-ef2126wm/837972299?athbdg=L1600](https://www.walmart.com/ip/HP-15-6-Laptop-AMD-Ryzen-5-5500U-8-GB-RAM-256-GB-SSD-Windows-11-Home-Natural-Silver-15-ef2126wm/837972299?athbdg=L1600))\n",
            "\n",
            "*   **Gateway 15.6\" FHD Ultra Slim Notebook:** Intel® Core™ i5-1135G7, 16GB RAM, 512GB SSD - $329.00\n",
            "    ([https://www.walmart.com/ip/Gateway-15-6-FHD-Ultra-Slim-Notebook-Intel-Core-i5-1135G7-Intel-Iris-Xe-Graphics-16GB-RAM-512GB-SSD-Tuned-by-THX-Audio-Webcam-HDMI-Cortana-Windows/952933956?athbdg=L1600](https://www.walmart.com/ip/Gateway-15-6-FHD-Ultra-Slim-Notebook-Intel-Core-i5-1135G7-Intel-Iris-Xe-Graphics-16GB-RAM-512GB-SSD-Tuned-by-THX-Audio-Webcam-HDMI-Cortana-Windows/952933956?athbdg=L1600))\n",
            "\n",
            "*   **HP 15.6\" FHD Laptop:** AMD Ryzen 5 5500U, 8GB RAM, 256GB SSD - $379.00\n",
            "    ([https://www.walmart.com/ip/HP-15-6-FHD-Laptop-AMD-Ryzen-5-5500U-8GB-RAM-256GB-SSD-Windows-11-Home-Silver-15-ef2126wm/837972299](https://www.walmart.com/ip/HP-15-6-FHD-Laptop-AMD-Ryzen-5-5500U-8GB-RAM-256GB-SSD-Windows-11-Home-Silver-15-ef2126wm/837972299))\n",
            "\n",
            "*   **Lenovo V15 G3 IAP:** Intel Core i5 1235U, 8 GB RAM, 256 GB NVMe SSD - $599.00\n",
            "\n",
            "Which of these laptops interests you the most, or would you like me to refine the search with different criteria?\n",
            "User: the first one looks pretty good\n",
            "Model: Great! The Lenovo IdeaPad 1 with the AMD Ryzen 5 7520U, 8GB RAM, and 256GB SSD for $399.00.\n",
            "\n",
            "Would you like me to get a second opinion on this from the rank\\_prebuilds tool, or are you happy with this recommendation?\n",
            "User: please get the second opinion\n"
          ]
        },
        {
          "output_type": "error",
          "ename": "TypeError",
          "evalue": "string indices must be integers, not 'str'",
          "traceback": [
            "\u001b[0;31m---------------------------------------------------------------------------\u001b[0m",
            "\u001b[0;31mTypeError\u001b[0m                                 Traceback (most recent call last)",
            "\u001b[0;32m<ipython-input-112-4d80497eabb5>\u001b[0m in \u001b[0;36m<cell line: 0>\u001b[0;34m()\u001b[0m\n\u001b[1;32m      7\u001b[0m \u001b[0;31m# other exit terms defined in `human_node`.\u001b[0m\u001b[0;34m\u001b[0m\u001b[0;34m\u001b[0m\u001b[0m\n\u001b[1;32m      8\u001b[0m \u001b[0;31m# Uncomment this line to execute the graph:\u001b[0m\u001b[0;34m\u001b[0m\u001b[0;34m\u001b[0m\u001b[0m\n\u001b[0;32m----> 9\u001b[0;31m \u001b[0mstate\u001b[0m \u001b[0;34m=\u001b[0m \u001b[0mchat_graph\u001b[0m\u001b[0;34m.\u001b[0m\u001b[0minvoke\u001b[0m\u001b[0;34m(\u001b[0m\u001b[0;34m{\u001b[0m\u001b[0;34m\"messages\"\u001b[0m\u001b[0;34m:\u001b[0m \u001b[0;34m[\u001b[0m\u001b[0;34m]\u001b[0m\u001b[0;34m}\u001b[0m\u001b[0;34m,\u001b[0m \u001b[0mconfig\u001b[0m\u001b[0;34m)\u001b[0m\u001b[0;34m\u001b[0m\u001b[0;34m\u001b[0m\u001b[0m\n\u001b[0m\u001b[1;32m     10\u001b[0m \u001b[0;34m\u001b[0m\u001b[0m\n\u001b[1;32m     11\u001b[0m \u001b[0;31m# Things to try:\u001b[0m\u001b[0;34m\u001b[0m\u001b[0;34m\u001b[0m\u001b[0m\n",
            "\u001b[0;32m/usr/local/lib/python3.11/dist-packages/langgraph/pregel/__init__.py\u001b[0m in \u001b[0;36minvoke\u001b[0;34m(self, input, config, stream_mode, output_keys, interrupt_before, interrupt_after, debug, **kwargs)\u001b[0m\n\u001b[1;32m   2681\u001b[0m         \u001b[0;32melse\u001b[0m\u001b[0;34m:\u001b[0m\u001b[0;34m\u001b[0m\u001b[0;34m\u001b[0m\u001b[0m\n\u001b[1;32m   2682\u001b[0m             \u001b[0mchunks\u001b[0m \u001b[0;34m=\u001b[0m \u001b[0;34m[\u001b[0m\u001b[0;34m]\u001b[0m\u001b[0;34m\u001b[0m\u001b[0;34m\u001b[0m\u001b[0m\n\u001b[0;32m-> 2683\u001b[0;31m         for chunk in self.stream(\n\u001b[0m\u001b[1;32m   2684\u001b[0m             \u001b[0minput\u001b[0m\u001b[0;34m,\u001b[0m\u001b[0;34m\u001b[0m\u001b[0;34m\u001b[0m\u001b[0m\n\u001b[1;32m   2685\u001b[0m             \u001b[0mconfig\u001b[0m\u001b[0;34m,\u001b[0m\u001b[0;34m\u001b[0m\u001b[0;34m\u001b[0m\u001b[0m\n",
            "\u001b[0;32m/usr/local/lib/python3.11/dist-packages/langgraph/pregel/__init__.py\u001b[0m in \u001b[0;36mstream\u001b[0;34m(self, input, config, stream_mode, output_keys, interrupt_before, interrupt_after, debug, subgraphs)\u001b[0m\n\u001b[1;32m   2329\u001b[0m                 \u001b[0;31m# with channel updates applied only at the transition between steps.\u001b[0m\u001b[0;34m\u001b[0m\u001b[0;34m\u001b[0m\u001b[0m\n\u001b[1;32m   2330\u001b[0m                 \u001b[0;32mwhile\u001b[0m \u001b[0mloop\u001b[0m\u001b[0;34m.\u001b[0m\u001b[0mtick\u001b[0m\u001b[0;34m(\u001b[0m\u001b[0minput_keys\u001b[0m\u001b[0;34m=\u001b[0m\u001b[0mself\u001b[0m\u001b[0;34m.\u001b[0m\u001b[0minput_channels\u001b[0m\u001b[0;34m)\u001b[0m\u001b[0;34m:\u001b[0m\u001b[0;34m\u001b[0m\u001b[0;34m\u001b[0m\u001b[0m\n\u001b[0;32m-> 2331\u001b[0;31m                     for _ in runner.tick(\n\u001b[0m\u001b[1;32m   2332\u001b[0m                         \u001b[0mloop\u001b[0m\u001b[0;34m.\u001b[0m\u001b[0mtasks\u001b[0m\u001b[0;34m.\u001b[0m\u001b[0mvalues\u001b[0m\u001b[0;34m(\u001b[0m\u001b[0;34m)\u001b[0m\u001b[0;34m,\u001b[0m\u001b[0;34m\u001b[0m\u001b[0;34m\u001b[0m\u001b[0m\n\u001b[1;32m   2333\u001b[0m                         \u001b[0mtimeout\u001b[0m\u001b[0;34m=\u001b[0m\u001b[0mself\u001b[0m\u001b[0;34m.\u001b[0m\u001b[0mstep_timeout\u001b[0m\u001b[0;34m,\u001b[0m\u001b[0;34m\u001b[0m\u001b[0;34m\u001b[0m\u001b[0m\n",
            "\u001b[0;32m/usr/local/lib/python3.11/dist-packages/langgraph/pregel/runner.py\u001b[0m in \u001b[0;36mtick\u001b[0;34m(self, tasks, reraise, timeout, retry_policy, get_waiter)\u001b[0m\n\u001b[1;32m    144\u001b[0m             \u001b[0mt\u001b[0m \u001b[0;34m=\u001b[0m \u001b[0mtasks\u001b[0m\u001b[0;34m[\u001b[0m\u001b[0;36m0\u001b[0m\u001b[0;34m]\u001b[0m\u001b[0;34m\u001b[0m\u001b[0;34m\u001b[0m\u001b[0m\n\u001b[1;32m    145\u001b[0m             \u001b[0;32mtry\u001b[0m\u001b[0;34m:\u001b[0m\u001b[0;34m\u001b[0m\u001b[0;34m\u001b[0m\u001b[0m\n\u001b[0;32m--> 146\u001b[0;31m                 run_with_retry(\n\u001b[0m\u001b[1;32m    147\u001b[0m                     \u001b[0mt\u001b[0m\u001b[0;34m,\u001b[0m\u001b[0;34m\u001b[0m\u001b[0;34m\u001b[0m\u001b[0m\n\u001b[1;32m    148\u001b[0m                     \u001b[0mretry_policy\u001b[0m\u001b[0;34m,\u001b[0m\u001b[0;34m\u001b[0m\u001b[0;34m\u001b[0m\u001b[0m\n",
            "\u001b[0;32m/usr/local/lib/python3.11/dist-packages/langgraph/pregel/retry.py\u001b[0m in \u001b[0;36mrun_with_retry\u001b[0;34m(task, retry_policy, configurable)\u001b[0m\n\u001b[1;32m     38\u001b[0m             \u001b[0mtask\u001b[0m\u001b[0;34m.\u001b[0m\u001b[0mwrites\u001b[0m\u001b[0;34m.\u001b[0m\u001b[0mclear\u001b[0m\u001b[0;34m(\u001b[0m\u001b[0;34m)\u001b[0m\u001b[0;34m\u001b[0m\u001b[0;34m\u001b[0m\u001b[0m\n\u001b[1;32m     39\u001b[0m             \u001b[0;31m# run the task\u001b[0m\u001b[0;34m\u001b[0m\u001b[0;34m\u001b[0m\u001b[0m\n\u001b[0;32m---> 40\u001b[0;31m             \u001b[0;32mreturn\u001b[0m \u001b[0mtask\u001b[0m\u001b[0;34m.\u001b[0m\u001b[0mproc\u001b[0m\u001b[0;34m.\u001b[0m\u001b[0minvoke\u001b[0m\u001b[0;34m(\u001b[0m\u001b[0mtask\u001b[0m\u001b[0;34m.\u001b[0m\u001b[0minput\u001b[0m\u001b[0;34m,\u001b[0m \u001b[0mconfig\u001b[0m\u001b[0;34m)\u001b[0m\u001b[0;34m\u001b[0m\u001b[0;34m\u001b[0m\u001b[0m\n\u001b[0m\u001b[1;32m     41\u001b[0m         \u001b[0;32mexcept\u001b[0m \u001b[0mParentCommand\u001b[0m \u001b[0;32mas\u001b[0m \u001b[0mexc\u001b[0m\u001b[0;34m:\u001b[0m\u001b[0;34m\u001b[0m\u001b[0;34m\u001b[0m\u001b[0m\n\u001b[1;32m     42\u001b[0m             \u001b[0mns\u001b[0m\u001b[0;34m:\u001b[0m \u001b[0mstr\u001b[0m \u001b[0;34m=\u001b[0m \u001b[0mconfig\u001b[0m\u001b[0;34m[\u001b[0m\u001b[0mCONF\u001b[0m\u001b[0;34m]\u001b[0m\u001b[0;34m[\u001b[0m\u001b[0mCONFIG_KEY_CHECKPOINT_NS\u001b[0m\u001b[0;34m]\u001b[0m\u001b[0;34m\u001b[0m\u001b[0;34m\u001b[0m\u001b[0m\n",
            "\u001b[0;32m/usr/local/lib/python3.11/dist-packages/langgraph/utils/runnable.py\u001b[0m in \u001b[0;36minvoke\u001b[0;34m(self, input, config, **kwargs)\u001b[0m\n\u001b[1;32m    604\u001b[0m                 )\n\u001b[1;32m    605\u001b[0m                 \u001b[0;32mif\u001b[0m \u001b[0mi\u001b[0m \u001b[0;34m==\u001b[0m \u001b[0;36m0\u001b[0m\u001b[0;34m:\u001b[0m\u001b[0;34m\u001b[0m\u001b[0;34m\u001b[0m\u001b[0m\n\u001b[0;32m--> 606\u001b[0;31m                     \u001b[0minput\u001b[0m \u001b[0;34m=\u001b[0m \u001b[0mstep\u001b[0m\u001b[0;34m.\u001b[0m\u001b[0minvoke\u001b[0m\u001b[0;34m(\u001b[0m\u001b[0minput\u001b[0m\u001b[0;34m,\u001b[0m \u001b[0mconfig\u001b[0m\u001b[0;34m,\u001b[0m \u001b[0;34m**\u001b[0m\u001b[0mkwargs\u001b[0m\u001b[0;34m)\u001b[0m\u001b[0;34m\u001b[0m\u001b[0;34m\u001b[0m\u001b[0m\n\u001b[0m\u001b[1;32m    607\u001b[0m                 \u001b[0;32melse\u001b[0m\u001b[0;34m:\u001b[0m\u001b[0;34m\u001b[0m\u001b[0;34m\u001b[0m\u001b[0m\n\u001b[1;32m    608\u001b[0m                     \u001b[0minput\u001b[0m \u001b[0;34m=\u001b[0m \u001b[0mstep\u001b[0m\u001b[0;34m.\u001b[0m\u001b[0minvoke\u001b[0m\u001b[0;34m(\u001b[0m\u001b[0minput\u001b[0m\u001b[0;34m,\u001b[0m \u001b[0mconfig\u001b[0m\u001b[0;34m)\u001b[0m\u001b[0;34m\u001b[0m\u001b[0;34m\u001b[0m\u001b[0m\n",
            "\u001b[0;32m/usr/local/lib/python3.11/dist-packages/langgraph/utils/runnable.py\u001b[0m in \u001b[0;36minvoke\u001b[0;34m(self, input, config, **kwargs)\u001b[0m\n\u001b[1;32m    369\u001b[0m         \u001b[0;32melse\u001b[0m\u001b[0;34m:\u001b[0m\u001b[0;34m\u001b[0m\u001b[0;34m\u001b[0m\u001b[0m\n\u001b[1;32m    370\u001b[0m             \u001b[0;32mwith\u001b[0m \u001b[0mset_config_context\u001b[0m\u001b[0;34m(\u001b[0m\u001b[0mconfig\u001b[0m\u001b[0;34m)\u001b[0m \u001b[0;32mas\u001b[0m \u001b[0mcontext\u001b[0m\u001b[0;34m:\u001b[0m\u001b[0;34m\u001b[0m\u001b[0;34m\u001b[0m\u001b[0m\n\u001b[0;32m--> 371\u001b[0;31m                 \u001b[0mret\u001b[0m \u001b[0;34m=\u001b[0m \u001b[0mcontext\u001b[0m\u001b[0;34m.\u001b[0m\u001b[0mrun\u001b[0m\u001b[0;34m(\u001b[0m\u001b[0mself\u001b[0m\u001b[0;34m.\u001b[0m\u001b[0mfunc\u001b[0m\u001b[0;34m,\u001b[0m \u001b[0;34m*\u001b[0m\u001b[0margs\u001b[0m\u001b[0;34m,\u001b[0m \u001b[0;34m**\u001b[0m\u001b[0mkwargs\u001b[0m\u001b[0;34m)\u001b[0m\u001b[0;34m\u001b[0m\u001b[0;34m\u001b[0m\u001b[0m\n\u001b[0m\u001b[1;32m    372\u001b[0m         \u001b[0;32mif\u001b[0m \u001b[0misinstance\u001b[0m\u001b[0;34m(\u001b[0m\u001b[0mret\u001b[0m\u001b[0;34m,\u001b[0m \u001b[0mRunnable\u001b[0m\u001b[0;34m)\u001b[0m \u001b[0;32mand\u001b[0m \u001b[0mself\u001b[0m\u001b[0;34m.\u001b[0m\u001b[0mrecurse\u001b[0m\u001b[0;34m:\u001b[0m\u001b[0;34m\u001b[0m\u001b[0;34m\u001b[0m\u001b[0m\n\u001b[1;32m    373\u001b[0m             \u001b[0;32mreturn\u001b[0m \u001b[0mret\u001b[0m\u001b[0;34m.\u001b[0m\u001b[0minvoke\u001b[0m\u001b[0;34m(\u001b[0m\u001b[0minput\u001b[0m\u001b[0;34m,\u001b[0m \u001b[0mconfig\u001b[0m\u001b[0;34m)\u001b[0m\u001b[0;34m\u001b[0m\u001b[0;34m\u001b[0m\u001b[0m\n",
            "\u001b[0;32m<ipython-input-17-d5cb144ea75e>\u001b[0m in \u001b[0;36moptimize_build_node\u001b[0;34m(state)\u001b[0m\n\u001b[1;32m     20\u001b[0m             \u001b[0;32mif\u001b[0m \u001b[0mbudget_state\u001b[0m \u001b[0;32mis\u001b[0m \u001b[0;32mNone\u001b[0m \u001b[0;32mor\u001b[0m \u001b[0mlen\u001b[0m\u001b[0;34m(\u001b[0m\u001b[0mbudget_state\u001b[0m\u001b[0;34m)\u001b[0m \u001b[0;34m<\u001b[0m \u001b[0;36m1\u001b[0m\u001b[0;34m:\u001b[0m\u001b[0;34m\u001b[0m\u001b[0;34m\u001b[0m\u001b[0m\n\u001b[1;32m     21\u001b[0m                 \u001b[0;32mraise\u001b[0m \u001b[0mValueError\u001b[0m\u001b[0;34m(\u001b[0m\u001b[0;34mf'An invalid budget of NoneType was found!'\u001b[0m\u001b[0;34m)\u001b[0m\u001b[0;34m\u001b[0m\u001b[0;34m\u001b[0m\u001b[0m\n\u001b[0;32m---> 22\u001b[0;31m             \u001b[0mrecommendations_state\u001b[0m \u001b[0;34m=\u001b[0m \u001b[0mrank_devices\u001b[0m\u001b[0;34m(\u001b[0m\u001b[0mrecommended_devices\u001b[0m\u001b[0;34m,\u001b[0m \u001b[0mparse_price\u001b[0m\u001b[0;34m(\u001b[0m\u001b[0mbudget_state\u001b[0m\u001b[0;34m)\u001b[0m\u001b[0;34m)\u001b[0m\u001b[0;34m\u001b[0m\u001b[0;34m\u001b[0m\u001b[0m\n\u001b[0m\u001b[1;32m     23\u001b[0m             \u001b[0mresponse\u001b[0m \u001b[0;34m=\u001b[0m \u001b[0mrank_devices\u001b[0m\u001b[0;34m(\u001b[0m\u001b[0mrecommended_devices\u001b[0m\u001b[0;34m,\u001b[0m \u001b[0mparse_price\u001b[0m\u001b[0;34m(\u001b[0m\u001b[0mbudget_state\u001b[0m\u001b[0;34m)\u001b[0m\u001b[0;34m,\u001b[0m \u001b[0;32mTrue\u001b[0m\u001b[0;34m)\u001b[0m\u001b[0;34m\u001b[0m\u001b[0;34m\u001b[0m\u001b[0m\n\u001b[1;32m     24\u001b[0m \u001b[0;34m\u001b[0m\u001b[0m\n",
            "\u001b[0;32m<ipython-input-13-ff9e0bec0b3b>\u001b[0m in \u001b[0;36mrank_devices\u001b[0;34m(devices_json, budget, return_json)\u001b[0m\n\u001b[1;32m     98\u001b[0m \u001b[0;34m\u001b[0m\u001b[0m\n\u001b[1;32m     99\u001b[0m     \u001b[0;32mfor\u001b[0m \u001b[0mdevice\u001b[0m \u001b[0;32min\u001b[0m \u001b[0mdevices\u001b[0m\u001b[0;34m:\u001b[0m\u001b[0;34m\u001b[0m\u001b[0;34m\u001b[0m\u001b[0m\n\u001b[0;32m--> 100\u001b[0;31m         \u001b[0mdevice\u001b[0m\u001b[0;34m[\u001b[0m\u001b[0;34m'value_ratio'\u001b[0m\u001b[0;34m]\u001b[0m \u001b[0;34m=\u001b[0m \u001b[0mget_value_ratio\u001b[0m\u001b[0;34m(\u001b[0m\u001b[0mdevice\u001b[0m\u001b[0;34m,\u001b[0m \u001b[0mbudget\u001b[0m\u001b[0;34m)\u001b[0m\u001b[0;34m\u001b[0m\u001b[0;34m\u001b[0m\u001b[0m\n\u001b[0m\u001b[1;32m    101\u001b[0m \u001b[0;34m\u001b[0m\u001b[0m\n\u001b[1;32m    102\u001b[0m     \u001b[0;31m# Sort devices by assigned value ratios descending\u001b[0m\u001b[0;34m\u001b[0m\u001b[0;34m\u001b[0m\u001b[0m\n",
            "\u001b[0;32m<ipython-input-13-ff9e0bec0b3b>\u001b[0m in \u001b[0;36mget_value_ratio\u001b[0;34m(device, budget)\u001b[0m\n\u001b[1;32m     77\u001b[0m     \u001b[0mReturns\u001b[0m \u001b[0;36m0\u001b[0m \u001b[0;32mif\u001b[0m \u001b[0mdevice\u001b[0m \u001b[0mexceeds\u001b[0m \u001b[0mbudget\u001b[0m\u001b[0;34m.\u001b[0m\u001b[0;34m\u001b[0m\u001b[0;34m\u001b[0m\u001b[0m\n\u001b[1;32m     78\u001b[0m     \"\"\"\n\u001b[0;32m---> 79\u001b[0;31m     \u001b[0mprice\u001b[0m \u001b[0;34m=\u001b[0m \u001b[0mparse_price\u001b[0m\u001b[0;34m(\u001b[0m\u001b[0mdevice\u001b[0m\u001b[0;34m[\u001b[0m\u001b[0;34m'price'\u001b[0m\u001b[0;34m]\u001b[0m\u001b[0;34m)\u001b[0m\u001b[0;34m\u001b[0m\u001b[0;34m\u001b[0m\u001b[0m\n\u001b[0m\u001b[1;32m     80\u001b[0m     \u001b[0;32mif\u001b[0m \u001b[0mprice\u001b[0m \u001b[0;34m>\u001b[0m \u001b[0mbudget\u001b[0m\u001b[0;34m:\u001b[0m\u001b[0;34m\u001b[0m\u001b[0;34m\u001b[0m\u001b[0m\n\u001b[1;32m     81\u001b[0m         \u001b[0;32mreturn\u001b[0m \u001b[0;36m0\u001b[0m\u001b[0;34m\u001b[0m\u001b[0;34m\u001b[0m\u001b[0m\n",
            "\u001b[0;31mTypeError\u001b[0m: string indices must be integers, not 'str'"
          ]
        }
      ]
    },
    {
      "cell_type": "code",
      "source": [
        "user_msg = \"Oh great, I plan to use the PC for university work, I'm enrolled in a computer science course.\"\n",
        "\n",
        "state[\"messages\"].append(user_msg)\n",
        "state = chat_graph.invoke(state)\n",
        "\n",
        "# pprint(state)\n",
        "for msg in state[\"messages\"]:\n",
        "    print(f\"{type(msg).__name__}: {msg.content}\")"
      ],
      "metadata": {
        "colab": {
          "base_uri": "https://localhost:8080/"
        },
        "id": "CBfxl2JT0_va",
        "outputId": "f9ea7a6d-a72c-4a05-dd05-7fc5913b74a5"
      },
      "execution_count": null,
      "outputs": [
        {
          "output_type": "stream",
          "name": "stdout",
          "text": [
            "HumanMessage: Hello, what can you do?\n",
            "AIMessage: Hello! I'm your PC Building Assistant. I can help you find the perfect PC build based on your budget and needs.\n",
            "\n",
            "To get started, could you tell me:\n",
            "\n",
            "1.  What is your budget for the PC?\n",
            "2.  What will you primarily use the PC for (e.g., gaming, office work, content creation, etc.)?\n",
            "HumanMessage: Oh great, I plan to use the PC for university work, I'm enrolled in a computer science course.\n",
            "AIMessage: Okay, a PC for computer science coursework. That's a good starting point. To give you the best recommendations, I need a little more information:\n",
            "\n",
            "1.  What's your budget? Even a rough estimate is helpful.\n",
            "2.  Do you need a pre-built system, or are you interested in building your own?\n",
            "3.  Do you have any existing hardware (monitor, keyboard, mouse, etc.) that you plan to use?\n",
            "4.  Are there any specific programs or tasks you anticipate using frequently (e.g., virtual machines, specific IDEs, data analysis)?\n",
            "\n",
            "Once I have this information, I can start putting together some potential build options for you.\n"
          ]
        }
      ]
    }
  ]
}