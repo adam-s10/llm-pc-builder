{
  "nbformat": 4,
  "nbformat_minor": 0,
  "metadata": {
    "colab": {
      "provenance": []
    },
    "kernelspec": {
      "name": "python3",
      "display_name": "Python 3"
    },
    "language_info": {
      "name": "python"
    }
  },
  "cells": [
    {
      "cell_type": "code",
      "execution_count": 1,
      "metadata": {
        "colab": {
          "base_uri": "https://localhost:8080/"
        },
        "id": "JzuxdA2Kkzp5",
        "outputId": "d59e0ff6-51cf-48ea-f005-b30247985611"
      },
      "outputs": [
        {
          "output_type": "stream",
          "name": "stdout",
          "text": [
            "\u001b[33mWARNING: Skipping kfp as it is not installed.\u001b[0m\u001b[33m\n",
            "\u001b[0m\u001b[33mWARNING: Skipping jupyterlab as it is not installed.\u001b[0m\u001b[33m\n",
            "\u001b[0m\u001b[33mWARNING: Skipping libpysal as it is not installed.\u001b[0m\u001b[33m\n",
            "\u001b[0m\u001b[33mWARNING: Skipping ydata-profiling as it is not installed.\u001b[0m\u001b[33m\n",
            "\u001b[2K     \u001b[90m━━━━━━━━━━━━━━━━━━━━━━━━━━━━━━━━━━━━━━━━\u001b[0m \u001b[32m43.5/43.5 kB\u001b[0m \u001b[31m1.5 MB/s\u001b[0m eta \u001b[36m0:00:00\u001b[0m\n",
            "\u001b[2K   \u001b[90m━━━━━━━━━━━━━━━━━━━━━━━━━━━━━━━━━━━━━━━━\u001b[0m \u001b[32m138.0/138.0 kB\u001b[0m \u001b[31m5.7 MB/s\u001b[0m eta \u001b[36m0:00:00\u001b[0m\n",
            "\u001b[2K   \u001b[90m━━━━━━━━━━━━━━━━━━━━━━━━━━━━━━━━━━━━━━━━\u001b[0m \u001b[32m42.0/42.0 kB\u001b[0m \u001b[31m1.9 MB/s\u001b[0m eta \u001b[36m0:00:00\u001b[0m\n",
            "\u001b[2K   \u001b[90m━━━━━━━━━━━━━━━━━━━━━━━━━━━━━━━━━━━━━━━━\u001b[0m \u001b[32m1.4/1.4 MB\u001b[0m \u001b[31m29.3 MB/s\u001b[0m eta \u001b[36m0:00:00\u001b[0m\n",
            "\u001b[2K   \u001b[90m━━━━━━━━━━━━━━━━━━━━━━━━━━━━━━━━━━━━━━━━\u001b[0m \u001b[32m42.0/42.0 kB\u001b[0m \u001b[31m2.3 MB/s\u001b[0m eta \u001b[36m0:00:00\u001b[0m\n",
            "\u001b[2K   \u001b[90m━━━━━━━━━━━━━━━━━━━━━━━━━━━━━━━━━━━━━━━━\u001b[0m \u001b[32m47.2/47.2 kB\u001b[0m \u001b[31m2.6 MB/s\u001b[0m eta \u001b[36m0:00:00\u001b[0m\n",
            "\u001b[2K   \u001b[90m━━━━━━━━━━━━━━━━━━━━━━━━━━━━━━━━━━━━━━━━\u001b[0m \u001b[32m194.8/194.8 kB\u001b[0m \u001b[31m8.9 MB/s\u001b[0m eta \u001b[36m0:00:00\u001b[0m\n",
            "\u001b[2K   \u001b[90m━━━━━━━━━━━━━━━━━━━━━━━━━━━━━━━━━━━━━━━━\u001b[0m \u001b[32m223.6/223.6 kB\u001b[0m \u001b[31m10.9 MB/s\u001b[0m eta \u001b[36m0:00:00\u001b[0m\n",
            "\u001b[?25h"
          ]
        }
      ],
      "source": [
        "# Remove conflicting packages from the base environment.\n",
        "!pip uninstall -qqy kfp jupyterlab libpysal thinc spacy fastai ydata-profiling google-cloud-bigquery google-generativeai\n",
        "\n",
        "# Install langgraph and the packages needed.\n",
        "!pip install -qU 'langgraph==0.3.21' 'langchain-google-genai==2.1.2' 'langgraph-prebuilt==0.1.7'"
      ]
    },
    {
      "cell_type": "code",
      "source": [
        "# Imports\n",
        "import os\n",
        "\n",
        "from pprint import pprint\n",
        "from random import randint\n",
        "from typing import List, Dict, Any, Annotated, Literal, Optional\n",
        "from collections.abc import Iterable\n",
        "from typing_extensions import TypedDict\n",
        "from IPython.display import Image, display\n",
        "\n",
        "from langchain_core.tools import tool\n",
        "from langgraph.prebuilt import ToolNode\n",
        "from langgraph.graph.message import add_messages\n",
        "from langchain_core.messages.ai import AIMessage\n",
        "from langgraph.graph import StateGraph, START, END\n",
        "from langchain_core.messages.tool import ToolMessage\n",
        "from langchain_google_genai import ChatGoogleGenerativeAI"
      ],
      "metadata": {
        "id": "mz6xIO6ok2ob"
      },
      "execution_count": 2,
      "outputs": []
    },
    {
      "cell_type": "code",
      "source": [
        "# Setup API key for Gemini\n",
        "os.environ[\"GOOGLE_API_KEY\"] = \"enter-your-own-pls\""
      ],
      "metadata": {
        "id": "KwwS12HVk4ua"
      },
      "execution_count": 3,
      "outputs": []
    },
    {
      "cell_type": "code",
      "source": [
        "class PCBuilderState(TypedDict):\n",
        "    \"\"\"State representing the PC builder conversation.\"\"\"\n",
        "\n",
        "    # The chat conversation. This preserves the conversation history\n",
        "    # between nodes. The `add_messages` annotation indicates to LangGraph\n",
        "    # that state is updated by appending returned messages, not replacing\n",
        "    # them.\n",
        "    messages: Annotated[list, add_messages]\n",
        "\n",
        "    # User requirements\n",
        "    # requirements: Dict[str, Any]\n",
        "    requirements: list[str]\n",
        "\n",
        "    # Budget information\n",
        "    budget: int\n",
        "\n",
        "    # Current recommendations for parts\n",
        "    recommendations: Dict[str, List[Dict[str, Any]]]\n",
        "\n",
        "    # Flag for whether the build is complete\n",
        "    build_complete: bool\n",
        "\n",
        "    # Flag to indicate waiting for user input\n",
        "    # waiting_for_user: bool\n",
        "\n",
        "\n",
        "# The system instruction defines how the chatbot is expected to behave and includes\n",
        "# rules for when to call different functions, as well as rules for the conversation, such\n",
        "# as tone and what is permitted for discussion.\n",
        "PC_BUILDER_SYSINT = (\n",
        "    \"system\",  # 'system' indicates the message is a system instruction.\n",
        "    \"\"\"\n",
        "You are a PC Builder Assistant, an expert in computer hardware and building custom PCs.\n",
        "Your goal is to help users find the perfect PC build based on their budget and requirements.\n",
        "\n",
        "You should:\n",
        "1. Ask about their budget and use case (gaming, office work, content creation, etc.)\n",
        "2. Determine if they need a custom build or pre-built system.\n",
        "3. For pre-built systems, ask if desktops or laptops or either are preferred.\n",
        "4. For custom builds, if they have existing hardware, ask what parts they want to upgrade.\n",
        "\n",
        "Once you have a general idea of what the user is looking for, you must formulate that\n",
        "into a structured list of individual requirements and call the update_plans tool, providing\n",
        "the budget and list of requirements. For either pre-built or custom build devices, if the\n",
        "user mentions wanting the PC for a specific task, such as playing a video game or video\n",
        "editing or training AI models or such, then use the search_task_requirements tool to find\n",
        "the hardware requirements for the specified task. Then update the user requirements using\n",
        "the update_plans tool again.\n",
        "\n",
        "Once the requirements are all logged by the tool, summarize the requirements back to the\n",
        "user in a couple of sentences using the latest requirements list and budget returned by\n",
        "your last call of the tool.\n",
        "\n",
        "If the user wants to change something in their plans, send a new list of requirements back\n",
        "to update_plans. If they want to start from scratch, use the clear_plan tool to remove all\n",
        "budget and requirements, then walk through the requirements gathering steps again.\n",
        "\n",
        "If the user confirms their requirements are final and they want a pre-built device, use\n",
        "search_prebuilt tool to find pre-built devices fitting the user criteria, which will be\n",
        "given to you in a structured JSON format. If the JSON has formatting errors and you cannot\n",
        "understand it, recall the search_prebuilt tool. If the JSON can be understood, call the\n",
        "rank_prebuilds tool to get a final list of recommendations and then render this neatly in\n",
        "markdown for the user to browse.\n",
        "\n",
        "If the user confirms their requirements are final and they want a custom build, use the\n",
        "lookup_parts_needed tool to get a list of the parts required. Once you have the parts,\n",
        "call the search_custom_parts tool to get a list of parts, which should be in a structured\n",
        "JSON format. If the JSON has formatting errors and you cannot understand it, recall the\n",
        "search_custom_parts tool. If the JSON can be understood, call the rank_parts tool to get\n",
        "a final list of parts for the user. Render this neatly in markdown for the user to browse.\n",
        "\n",
        "The user may have additional questions about the parts or building process, which you must\n",
        "expand upon if asked.\n",
        "\n",
        "If any of the tools are unavailable, let the user know instead of trying to call the tools.\n",
        "\n",
        "Stay focused on PC building. If users ask about unrelated topics, gently redirect them.\n",
        "\"\"\",\n",
        ")\n",
        "\n",
        "# This is the message with which the system opens the conversation.\n",
        "WELCOME_MSG = \"Welcome to the PC Builder Assistant! (Type `q` to quit). I'll help you find the perfect computer based on your needs and budget. Could you tell me your budget and what you'll be using this PC for? (Gaming, office work, content creation, etc.)\""
      ],
      "metadata": {
        "id": "86ysZFyXk6W6"
      },
      "execution_count": 4,
      "outputs": []
    },
    {
      "cell_type": "code",
      "source": [
        "# LLM model definition\n",
        "llm = ChatGoogleGenerativeAI(model=\"gemini-2.0-flash\")"
      ],
      "metadata": {
        "id": "4KH2vWTY3sZR"
      },
      "execution_count": 5,
      "outputs": []
    },
    {
      "cell_type": "code",
      "source": [
        "# Stateless tool - Search online for pre-built devices\n",
        "\n",
        "@tool\n",
        "def search_prebuilt(budget: int, requirements: list[str]) -> str:\n",
        "    '''Search for pre-built desktops or laptops fulfilling the user criteria.\n",
        "    Take the budget and requirements, and get Gemini to format it into a terse, concise query.\n",
        "    Then use search grounding to look for it and return the output as structured JSON with\n",
        "    price, brand, desktop/laptop, name, link to view more or buy\n",
        "    '''\n",
        "\n",
        "    USE_LANGGRAPH_SEARCH = False  # Will use Gemini search if false, both techniques seem to hallucinate info\n",
        "\n",
        "    USE_MODEL = 'gemini-2.0-flash'\n",
        "\n",
        "    newline_char = '\\n'\n",
        "\n",
        "    search_config = types.GenerateContentConfig(\n",
        "        tools=[types.Tool(google_search=types.GoogleSearch())],\n",
        "        temperature=0.0\n",
        "    )\n",
        "\n",
        "    prompt = f'''\n",
        "You are a computer hardware specialist who always responds in valid JSON. Search online\n",
        "for pre-built laptops or desktops based on the requirements provided below and return\n",
        "the results in JSON format with name, price, specifications, and purchase link for each\n",
        "device. Find at least 3-6 options for the device in question.\n",
        "\n",
        "JSON Structure to follow:\n",
        "Return a list of objects, where each object has three fields: name, price, and specifications.\n",
        "\n",
        "Key points to note:\n",
        "- Please answer the following question using ONLY information found in the provided web search results. Cite your sources for each statement or paragraph.\n",
        "- Rely exclusively on the real-time search results to answer. For each device in the JSON list you make, indicate which search result supports it.\n",
        "\n",
        "Device Requirements:\n",
        "    1. Budget: {'$600'}\n",
        "    2. Requirements: {newline_char + (newline_char.join([((' ' * 8) + '- ' + req) for req in requirements]))}\n",
        "'''\n",
        "\n",
        "    response = None\n",
        "\n",
        "    if USE_LANGGRAPH_SEARCH:\n",
        "        search_model = ChatGoogleGenerativeAI(\n",
        "            model=USE_MODEL,\n",
        "            config=search_config,\n",
        "            # convert_system_message_to_human=True  # Handle system messages properly\n",
        "        )\n",
        "        response = search_model.invoke([\n",
        "            HumanMessage(content=prompt)\n",
        "        ])\n",
        "        return response.content\n",
        "    else:\n",
        "        client = genai.Client(api_key=GOOGLE_API_KEY)\n",
        "        response = client.models.generate_content(\n",
        "            model=USE_MODEL,\n",
        "            contents=prompt,\n",
        "            config=search_config\n",
        "        )\n",
        "        rc = response.candidates[0]\n",
        "        return rc.content.parts[0].text"
      ],
      "metadata": {
        "id": "DxR35j6D_kBh"
      },
      "execution_count": 6,
      "outputs": []
    },
    {
      "cell_type": "code",
      "source": [
        "# Stateless tool - Lookup parts required internally using RAG and rules of thumb\n",
        "\n",
        "def lookup_parts_needed():\n",
        "    '''\n",
        "    '''\n",
        "'''\n",
        "4. For custom builds, recommend parts following these rules:\n",
        "   - GPU: ~50% of total budget\n",
        "   - CPU: Should not bottleneck the GPU\n",
        "   - Motherboard: Quality based on other components\n",
        "   - RAM: Compatible with CPU/motherboard overclocking specs\n",
        "   - PSU: At least 10% headroom over expected power draw, 20-30% for future upgrades\n",
        "   - Storage: Prioritize SSDs for budget builds, M.2 for pro builds, HDDs only if necessary\n",
        "   - Cooler: Appropriate for the CPU (no air cooling for hot CPUs)\n",
        "   - Case: Compatible with GPU length, motherboard type, and storage needs\n",
        "   - Fans: Minimum 3 fans (2 intake, 1 exhaust)\n",
        "'''"
      ],
      "metadata": {
        "id": "EwN9E2H-STbc"
      },
      "execution_count": null,
      "outputs": []
    },
    {
      "cell_type": "code",
      "source": [
        "# All stateless tools, part of tools node: Search game specs, lookup parts needed (sends to\n",
        "# chatbot which then sends to search part then back to chatbot which then updates\n",
        "# recommendations; must also take in existing hardware), search custom part (searches\n",
        "# each part mentioned by lookup parts, takes in list of strs from chatbot or directly\n",
        "# from lookup, does google search or external api call,  returns json for each part) ->\n",
        "# this then goes to optimize build and then gets put in recommendations."
      ],
      "metadata": {
        "id": "uBW2Y_RdSwTh"
      },
      "execution_count": null,
      "outputs": []
    },
    {
      "cell_type": "code",
      "source": [
        "# Stateless tool - Search online for custom parts for the build\n",
        "def search_custom_parts():\n",
        "    '''\n",
        "    '''"
      ],
      "metadata": {
        "id": "_Hjm6RUkVbsJ"
      },
      "execution_count": null,
      "outputs": []
    },
    {
      "cell_type": "code",
      "source": [
        "# Tool signatures for planning the build\n",
        "# Functionality defined in pc_planner_node\n",
        "\n",
        "def update_plans(requirements: list[str], budget: Optional[int] = None) -> Dict[str, Any]:\n",
        "    '''\n",
        "    Adds or modifies the device requirements and budget.\n",
        "    '''\n",
        "    # TODO: If budget is None and nothing exists in state, raise an error.\n",
        "    # If there is something in state, then just don't update it.\n",
        "    # Otherwise always update the budget.\n",
        "\n",
        "    # TODO: return form of {'budget': int(k), 'requirements': ['a', 'b', ..., 'n']}\n",
        "    # Actually, since this is a stateful change, may need to:\n",
        "    # a. NOT use a return statement\n",
        "    # b. Modify requirements and budget inside state directly\n",
        "    # c. Append a message to the history at the end telling the llm of the changes\n",
        "    # d. Remove the message from history once the llm has seen it and has does the needful-\n",
        "    #    - so that the message isn't displayed to the user\n",
        "\n",
        "\n",
        "def clear_plan():\n",
        "    '''\n",
        "    '''\n",
        "\n",
        "\n",
        "def search_task_requirements():\n",
        "    '''\n",
        "    '''\n",
        "    # Might have to move this one to stateless from planner node"
      ],
      "metadata": {
        "id": "SdoWxZlJIoUb"
      },
      "execution_count": null,
      "outputs": []
    },
    {
      "cell_type": "code",
      "source": [
        "# Tool signatures for recommending parts for a planned build\n",
        "# Functionality defined in optimize_build_node\n",
        "\n",
        "def rank_parts():\n",
        "    '''\n",
        "    '''\n",
        "\n",
        "\n",
        "def rank_prebuilds():\n",
        "    '''\n",
        "    '''"
      ],
      "metadata": {
        "id": "3BVtk0cTIroB"
      },
      "execution_count": null,
      "outputs": []
    },
    {
      "cell_type": "code",
      "source": [
        "# Tool grouped on nodes\n",
        "planner_tools = [update_plans, clear_plan, search_task_requirements]\n",
        "builder_tools = [rank_parts, rank_prebuilds]"
      ],
      "metadata": {
        "id": "M-9DAAU6QH6i"
      },
      "execution_count": null,
      "outputs": []
    },
    {
      "cell_type": "code",
      "source": [
        "# Tools Config\n",
        "auto_tools = [search_prebuilt, lookup_parts_needed, search_custom_parts]\n",
        "tool_node = ToolNode(auto_tools)\n",
        "\n",
        "# Tool binding\n",
        "llm_with_tools = llm.bind_tools(auto_tools + planner_tools + builder_tools)"
      ],
      "metadata": {
        "id": "pXXPDrGKA8_6"
      },
      "execution_count": 7,
      "outputs": []
    },
    {
      "cell_type": "code",
      "source": [
        "# Build planner node\n",
        "def pc_planner_node():\n",
        "    '''This is where the requirements and budget within state get manipulated.'''\n",
        "    # - chatbot_node calls tool update_plans() once it has details from the user\n",
        "    # - update_plans() is part of pc_planner node\n",
        "\n",
        "    tool_msg = state.get(\"messages\", [])[-1]\n",
        "    requirements = state.get(\"requirements\", [])\n",
        "    budget = state.get('budget', 1000)\n",
        "    outbound_msgs = []\n",
        "    build_complete = False\n",
        "\n",
        "    for tool_call in tool_msg.tool_calls:\n",
        "        if tool_call['name'] == 'update_plans':\n",
        "            pass\n",
        "        elif tool_call['name'] == 'clear_plan':\n",
        "            pass\n",
        "        elif tool_call['name'] == 'search_task_requirements':\n",
        "            pass\n",
        "        else:\n",
        "            raise NotImplementedError(f'Unknown tool call: {tool_call['name']}')\n",
        "\n",
        "        # Record the tool results as tool messages.\n",
        "        outbound_msgs.append(\n",
        "            ToolMessage(\n",
        "                content=response,\n",
        "                name=tool_call[\"name\"],\n",
        "                tool_call_id=tool_call[\"id\"],\n",
        "            )\n",
        "        )\n",
        "\n",
        "    return {\n",
        "        \"messages\": outbound_msgs,\n",
        "        \"requirements\": requirements,\n",
        "        'budget': budget,\n",
        "        \"build_complete\": build_complete\n",
        "    }"
      ],
      "metadata": {
        "id": "9BmdR5L5I0-i"
      },
      "execution_count": null,
      "outputs": []
    },
    {
      "cell_type": "code",
      "source": [
        "# Parts recommender node (based on devised plan)\n",
        "def optimize_build_node():\n",
        "    '''This is where the recommendations within state get manipulated.'''\n",
        "    # state.recommendations modified by tool rank_parts() part of optimize_build node\n",
        "    # - happens once search_prebuilt() tool returns a few values"
      ],
      "metadata": {
        "id": "51rRWwKoI2yq"
      },
      "execution_count": null,
      "outputs": []
    },
    {
      "cell_type": "code",
      "source": [
        "def chatbot_node(state: PCBuilderState) -> PCBuilderState:\n",
        "    \"\"\"The chatbot itself. A simple wrapper around the model's own chat interface.\"\"\"\n",
        "    default_state = {'requirements': [], 'budget': 1000, 'build_complete': False}\n",
        "\n",
        "    if state['messages']:\n",
        "        # If there are messages, continue the conversation with the model\n",
        "        message_history = [PC_BUILDER_SYSINT] + state[\"messages\"]\n",
        "        new_output = llm_with_tools.invoke(message_history)\n",
        "    else:\n",
        "        # If there are no messages, welcome the user.\n",
        "        new_output = AIMessage(content=WELCOME_MSG)\n",
        "\n",
        "    # Setup some defaults, then override with whatever exists in state, and finally\n",
        "    # override with messages\n",
        "    return default_state | state | {\"messages\": [new_output]}"
      ],
      "metadata": {
        "id": "lzsqL221mQUL"
      },
      "execution_count": 8,
      "outputs": []
    },
    {
      "cell_type": "code",
      "source": [
        "def human_node(state: PCBuilderState) -> PCBuilderState:\n",
        "    \"\"\"Display the last message from the model to the user, and receive their input.\"\"\"\n",
        "    last_msg = state['messages'][-1]\n",
        "    print('Model:', last_msg.content)\n",
        "\n",
        "    user_input = input('User: ')\n",
        "\n",
        "    # Does the user wish to quit?\n",
        "    if user_input in {'q', 'quit', 'exit', 'goodbye'}:\n",
        "        state['build_complete'] = True\n",
        "\n",
        "    return state | {'messages': [('user', user_input)]}"
      ],
      "metadata": {
        "id": "ooizLUht1wRS"
      },
      "execution_count": 9,
      "outputs": []
    },
    {
      "cell_type": "code",
      "source": [
        "# Human to Exit OR Human to Chatbot; Conditional Edge Transition function\n",
        "def maybe_exit_human_node(state: PCBuilderState) -> Literal[\"chatbot\", \"__end__\"]:\n",
        "    \"\"\"Route to the chatbot, unless it looks like the user is exiting.\"\"\"\n",
        "    if state.get(\"build_complete\", False):\n",
        "        return END\n",
        "    else:\n",
        "        return \"chatbot\""
      ],
      "metadata": {
        "id": "gqmUpWsu4wPZ"
      },
      "execution_count": 10,
      "outputs": []
    },
    {
      "cell_type": "code",
      "source": [
        "# Chatbot to Tools OR Chatbot to Human; Conditional Edge Transition function\n",
        "def maybe_route_to_tools(state: PCBuilderState) -> Literal['tools', 'human']:\n",
        "    if not (msgs := state.get('messages', [])):\n",
        "        raise ValueError(f'No messages found when parsing state: {state}')\n",
        "\n",
        "    # Only route based on the last message.\n",
        "    msg = msgs[-1]\n",
        "\n",
        "    if state.get('build_complete', False):\n",
        "        # If the user has no more questions or indicate satisfaction, complete the build\n",
        "        return END\n",
        "    elif hasattr(msg, 'tool_calls') and len(msg.tool_calls) > 0:\n",
        "        # When chatbot returns tool_calls, route to the 'tools' node\n",
        "        if any(tool['name'] in tool_node.tools_by_name.keys() for tool in msg.tool_calls):\n",
        "            return 'tools'\n",
        "        elif any(tool['name'] in [func.__name__ for func in planner_tools]):\n",
        "            return 'pc_planner'\n",
        "        elif any(tool['name'] in [func.__name__ for func in builder_tools]):\n",
        "            return 'optimize_build'\n",
        "        else:\n",
        "            raise ValueError(f'No such node existent: {tool['name']}')\n",
        "    else:\n",
        "        return 'human'"
      ],
      "metadata": {
        "id": "gH9EZoIkBXWH"
      },
      "execution_count": 11,
      "outputs": []
    },
    {
      "cell_type": "code",
      "source": [
        "# Set up the initial graph based on our state definition.\n",
        "graph_builder = StateGraph(PCBuilderState)\n",
        "\n",
        "# Add all the nodes to the app graph.\n",
        "graph_builder.add_node(\"chatbot\", chatbot_node)\n",
        "graph_builder.add_node(\"human\", human_node)\n",
        "graph_builder.add_node(\"tools\", tool_node)\n",
        "graph_builder.add_node(\"pc_planner\", tool_node)\n",
        "graph_builder.add_node(\"optimize_build\", tool_node)\n",
        "\n",
        "# Define the chatbot node as the app entrypoint.\n",
        "graph_builder.add_edge(START, \"chatbot\")\n",
        "\n",
        "# Edge transitions\n",
        "graph_builder.add_conditional_edges(\"chatbot\", maybe_route_to_tools)\n",
        "graph_builder.add_conditional_edges(\"human\", maybe_exit_human_node)\n",
        "graph_builder.add_edge(\"tools\", \"chatbot\")\n",
        "graph_builder.add_edge(\"pc_planner\", \"chatbot\")\n",
        "graph_builder.add_edge(\"optimize_build\", \"chatbot\")\n",
        "\n",
        "chat_graph = graph_builder.compile()"
      ],
      "metadata": {
        "id": "vz-kOlcOwKry"
      },
      "execution_count": 12,
      "outputs": []
    },
    {
      "cell_type": "code",
      "source": [
        "# Visualize the graph created.\n",
        "Image(chat_graph.get_graph().draw_mermaid_png())"
      ],
      "metadata": {
        "colab": {
          "base_uri": "https://localhost:8080/",
          "height": 350
        },
        "id": "quysN6udx6zb",
        "outputId": "e3d25890-1b78-4215-d221-a4942f466664"
      },
      "execution_count": 13,
      "outputs": [
        {
          "output_type": "execute_result",
          "data": {
            "image/png": "[encoded data removed]",
            "text/plain": [
              "<IPython.core.display.Image object>"
            ]
          },
          "metadata": {},
          "execution_count": 13
        }
      ]
    },
    {
      "cell_type": "code",
      "source": [
        "# The default recursion limit for traversing nodes is 25 - setting it higher means\n",
        "# you can try a more complex order with multiple steps and round-trips (and you\n",
        "# can chat for longer!)\n",
        "config = {\"recursion_limit\": 100}\n",
        "\n",
        "# Remember that this will loop forever, unless you input `q`, `quit` or one of the\n",
        "# other exit terms defined in `human_node`.\n",
        "# Uncomment this line to execute the graph:\n",
        "state = chat_graph.invoke({\"messages\": []}, config)\n",
        "\n",
        "# Things to try:\n",
        "#  - Just chat! There's no ordering or menu yet.\n",
        "#  - 'q' to exit.\n",
        "\n",
        "pprint(state)"
      ],
      "metadata": {
        "colab": {
          "base_uri": "https://localhost:8080/"
        },
        "id": "VDcqNgjV0KES",
        "outputId": "d6a867a6-d774-43f4-8aeb-5b52659c1ad7"
      },
      "execution_count": 14,
      "outputs": [
        {
          "output_type": "stream",
          "name": "stdout",
          "text": [
            "Model: Welcome to the PC Builder Assistant! (Type `q` to quit). I'll help you find the perfect computer based on your needs and budget. Could you tell me your budget and what you'll be using this PC for? (Gaming, office work, content creation, etc.)\n",
            "User: I don't have a lot of money, only around $200\n",
            "Model: Okay, with a budget of $200, you're likely looking at a basic pre-built system for general use, or possibly upgrading an existing PC if you have one.\n",
            "\n",
            "Do you need a desktop or a laptop? Are there any specific programs or games you want to run?\n",
            "User: Just need to check my email and browser forums\n",
            "Model: I found a result named \"Cheap Chinese Burner Laptop\". Would you like to know more?\n",
            "User: Yes please\n",
            "Model: I am still only seeing a result named \"Cheap Chinese Burner Laptop\". Unfortunately, with such a limited budget, the options are very restricted. This is likely a very basic machine, suitable only for light tasks like checking email and browsing forums.\n",
            "\n",
            "I recommend doing some research on that specific model to check user reviews and ensure it meets your needs.\n",
            "User: q\n",
            "{'budget': 1000,\n",
            " 'build_complete': True,\n",
            " 'messages': [AIMessage(content=\"Welcome to the PC Builder Assistant! (Type `q` to quit). I'll help you find the perfect computer based on your needs and budget. Could you tell me your budget and what you'll be using this PC for? (Gaming, office work, content creation, etc.)\", additional_kwargs={}, response_metadata={}, id='ea5856ad-7015-4e7e-b617-3ccaf7a2d0e5'),\n",
            "              HumanMessage(content=\"I don't have a lot of money, only around $200\", additional_kwargs={}, response_metadata={}, id='dc349bcc-5055-4cf9-97d4-27abd8f2e55f'),\n",
            "              AIMessage(content=\"Okay, with a budget of $200, you're likely looking at a basic pre-built system for general use, or possibly upgrading an existing PC if you have one.\\n\\nDo you need a desktop or a laptop? Are there any specific programs or games you want to run?\", additional_kwargs={}, response_metadata={'prompt_feedback': {'block_reason': 0, 'safety_ratings': []}, 'finish_reason': 'STOP', 'model_name': 'gemini-2.0-flash', 'safety_ratings': []}, id='run-0e890f62-5d53-46c7-9d36-c75ac8f21d85-0', usage_metadata={'input_tokens': 618, 'output_tokens': 61, 'total_tokens': 679, 'input_token_details': {'cache_read': 0}}),\n",
            "              HumanMessage(content='Just need to check my email and browser forums', additional_kwargs={}, response_metadata={}, id='e845690f-62fb-469b-b277-d198f4dab66e'),\n",
            "              AIMessage(content='For checking email and browsing forums, a very basic pre-built system should suffice. Let me search for some options.', additional_kwargs={'function_call': {'name': 'search_prebuilt', 'arguments': '{\"requirements\": [\"email\", \"web browsing\"], \"budget\": 200.0}'}}, response_metadata={'prompt_feedback': {'block_reason': 0, 'safety_ratings': []}, 'finish_reason': 'STOP', 'model_name': 'gemini-2.0-flash', 'safety_ratings': []}, id='run-68507653-98e6-4aab-83c6-2d0d00715f67-0', tool_calls=[{'name': 'search_prebuilt', 'args': {'requirements': ['email', 'web browsing'], 'budget': 200.0}, 'id': '7f56350e-375c-4d9b-accf-4e1937749878', 'type': 'tool_call'}], usage_metadata={'input_tokens': 687, 'output_tokens': 34, 'total_tokens': 721, 'input_token_details': {'cache_read': 0}}),\n",
            "              ToolMessage(content='Cheap Chinese Burner Laptop', name='search_prebuilt', id='e1c66293-1249-41d0-ba76-d3bd3e6a20cf', tool_call_id='7f56350e-375c-4d9b-accf-4e1937749878'),\n",
            "              AIMessage(content='I found a result named \"Cheap Chinese Burner Laptop\". Would you like to know more?', additional_kwargs={}, response_metadata={'prompt_feedback': {'block_reason': 0, 'safety_ratings': []}, 'finish_reason': 'STOP', 'model_name': 'gemini-2.0-flash', 'safety_ratings': []}, id='run-a555d2c3-7883-4917-8391-eb9f09d2f4bd-0', usage_metadata={'input_tokens': 705, 'output_tokens': 19, 'total_tokens': 724, 'input_token_details': {'cache_read': 0}}),\n",
            "              HumanMessage(content='Yes please', additional_kwargs={}, response_metadata={}, id='1fc2dd47-c73c-47f3-9229-0d74f5d0cb8a'),\n",
            "              AIMessage(content='', additional_kwargs={'function_call': {'name': 'search_prebuilt', 'arguments': '{\"requirements\": [\"email\", \"web browsing\"], \"budget\": 200.0}'}}, response_metadata={'prompt_feedback': {'block_reason': 0, 'safety_ratings': []}, 'finish_reason': 'STOP', 'model_name': 'gemini-2.0-flash', 'safety_ratings': []}, id='run-a332ad45-dd34-4bfb-b2ec-5c8cfbe2ac6e-0', tool_calls=[{'name': 'search_prebuilt', 'args': {'requirements': ['email', 'web browsing'], 'budget': 200.0}, 'id': 'c543b529-b85b-40b8-a00a-36b95a1cd81f', 'type': 'tool_call'}], usage_metadata={'input_tokens': 725, 'output_tokens': 9, 'total_tokens': 734, 'input_token_details': {'cache_read': 0}}),\n",
            "              ToolMessage(content='Cheap Chinese Burner Laptop', name='search_prebuilt', id='252c6073-26f2-45ba-87e9-77af3a26547f', tool_call_id='c543b529-b85b-40b8-a00a-36b95a1cd81f'),\n",
            "              AIMessage(content='I am still only seeing a result named \"Cheap Chinese Burner Laptop\". Unfortunately, with such a limited budget, the options are very restricted. This is likely a very basic machine, suitable only for light tasks like checking email and browsing forums.\\n\\nI recommend doing some research on that specific model to check user reviews and ensure it meets your needs.', additional_kwargs={}, response_metadata={'prompt_feedback': {'block_reason': 0, 'safety_ratings': []}, 'finish_reason': 'STOP', 'model_name': 'gemini-2.0-flash', 'safety_ratings': []}, id='run-0512d9f2-4967-49a4-b087-b315c45b1372-0', usage_metadata={'input_tokens': 743, 'output_tokens': 70, 'total_tokens': 813, 'input_token_details': {'cache_read': 0}}),\n",
            "              HumanMessage(content='q', additional_kwargs={}, response_metadata={}, id='7c9a3208-3f1f-4701-8c03-0ddcb8da0326')],\n",
            " 'requirements': []}\n"
          ]
        }
      ]
    },
    {
      "cell_type": "code",
      "source": [
        "user_msg = \"Oh great, I plan to use the PC for university work, I'm enrolled in a computer science course.\"\n",
        "\n",
        "state[\"messages\"].append(user_msg)\n",
        "state = chat_graph.invoke(state)\n",
        "\n",
        "# pprint(state)\n",
        "for msg in state[\"messages\"]:\n",
        "    print(f\"{type(msg).__name__}: {msg.content}\")"
      ],
      "metadata": {
        "colab": {
          "base_uri": "https://localhost:8080/"
        },
        "id": "CBfxl2JT0_va",
        "outputId": "f9ea7a6d-a72c-4a05-dd05-7fc5913b74a5"
      },
      "execution_count": null,
      "outputs": [
        {
          "output_type": "stream",
          "name": "stdout",
          "text": [
            "HumanMessage: Hello, what can you do?\n",
            "AIMessage: Hello! I'm your PC Building Assistant. I can help you find the perfect PC build based on your budget and needs.\n",
            "\n",
            "To get started, could you tell me:\n",
            "\n",
            "1.  What is your budget for the PC?\n",
            "2.  What will you primarily use the PC for (e.g., gaming, office work, content creation, etc.)?\n",
            "HumanMessage: Oh great, I plan to use the PC for university work, I'm enrolled in a computer science course.\n",
            "AIMessage: Okay, a PC for computer science coursework. That's a good starting point. To give you the best recommendations, I need a little more information:\n",
            "\n",
            "1.  What's your budget? Even a rough estimate is helpful.\n",
            "2.  Do you need a pre-built system, or are you interested in building your own?\n",
            "3.  Do you have any existing hardware (monitor, keyboard, mouse, etc.) that you plan to use?\n",
            "4.  Are there any specific programs or tasks you anticipate using frequently (e.g., virtual machines, specific IDEs, data analysis)?\n",
            "\n",
            "Once I have this information, I can start putting together some potential build options for you.\n"
          ]
        }
      ]
    }
  ]
}